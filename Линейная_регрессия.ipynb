{
  "nbformat": 4,
  "nbformat_minor": 0,
  "metadata": {
    "colab": {
      "provenance": [],
      "toc_visible": true,
      "include_colab_link": true
    },
    "kernelspec": {
      "name": "python3",
      "display_name": "Python 3"
    },
    "language_info": {
      "name": "python"
    }
  },
  "cells": [
    {
      "cell_type": "markdown",
      "metadata": {
        "id": "view-in-github",
        "colab_type": "text"
      },
      "source": [
        "<a href=\"https://colab.research.google.com/github/artemkonkin/DotNetArch/blob/master/%D0%9B%D0%B8%D0%BD%D0%B5%D0%B9%D0%BD%D0%B0%D1%8F_%D1%80%D0%B5%D0%B3%D1%80%D0%B5%D1%81%D1%81%D0%B8%D1%8F.ipynb\" target=\"_parent\"><img src=\"https://colab.research.google.com/assets/colab-badge.svg\" alt=\"Open In Colab\"/></a>"
      ]
    },
    {
      "cell_type": "code",
      "source": [
        "import pandas as pd\n",
        "import numpy as np\n",
        "import matplotlib.pyplot as plt\n",
        "import seaborn as sns"
      ],
      "metadata": {
        "id": "G5onEmrNezpC"
      },
      "execution_count": null,
      "outputs": []
    },
    {
      "cell_type": "markdown",
      "source": [
        "# Введение"
      ],
      "metadata": {
        "id": "90BZzqh4lR3v"
      }
    },
    {
      "cell_type": "markdown",
      "source": [
        "\n",
        "\n",
        "\n",
        "Есть три сходных между собой понятия: интерполяция, аппроксимация и регрессия. У них общая цель: из семейства функций выбрать ту, которая обладает определенным свойством.\n",
        "\n",
        "Интерполяция — способ выбрать из семейства функций ту, которая проходит через заданные точки. Часто функцию затем используют для вычисления в промежуточных точках. Примеры: интерполяция полиномами Лагранжа, сплайн-интерполяция, многомерная интерполяция (билинейная, трилинейная, методом ближайшего соседа и т.д). Есть также родственное понятие экстраполяции — предсказание поведения функции вне интервала.\n",
        "\n",
        "Аппроксимация — способ выбрать из семейства «простых» функций приближение для «сложной» функции на отрезке, при этом ошибка не должна превышать определенного предела. Аппроксимацию используют, когда нужно получить функцию, похожую на данную, но более удобную для вычислений и манипуляций (дифференцирования, интегрирования и т.п). При оптимизации критических участков кода часто используют аппроксимацию: если значение функции вычисляется много раз в секунду и не нужна абсолютная точность, то можно обойтись более простым аппроксимантом с меньшей «ценой» вычисления. Примеры: ряд Тейлора на отрезке, аппроксимация ортогональными многочленами, аппроксимация Паде, аппроксимация синуса Бхаскара и т.п.\n",
        "\n",
        "Регрессия — способ выбрать из семейства функций ту, которая минимизирует функцию потерь. Последняя характеризует насколько сильно пробная функция отклоняется от значений в заданных точках. Если точки получены в эксперименте, они неизбежно содержат ошибку измерений, шум, поэтому разумнее требовать, чтобы функция передавала общую тенденцию, а не точно проходила через все точки. В каком-то смысле регрессия — это «интерполирующая аппроксимация»: мы хотим провести кривую как можно ближе к точкам и при этом сохранить ее максимально простой чтобы уловить общую тенденцию. За баланс между этими противоречивыми желаниями как-раз отвечает функция потерь ( «loss function» или «cost function»)\n",
        "\n"
      ],
      "metadata": {
        "id": "NDJZUL4k4UWa"
      }
    },
    {
      "cell_type": "markdown",
      "source": [
        "Линейные регрессионные модели - предполагают, что определяемый критерий линейно\n",
        "зависит от признаков описывающих объект или процесс.\n",
        "\n",
        "Впервые метод опубликовал Лежандр в 1805 году, хотя Гаусс пришел к нему раньше и успешно использовал для предсказания орбиты «кометы» (на самом деле карликовой планеты) Цереры. Существует множество вариантов и обобщений линейной регрессии: LAD, метод наименьших квадратов, Ridge регрессия, Lasso регрессия, ElasticNet и многие другие. https://scikit-learn.ru/1-1-linear-models/\n",
        "\n",
        "В простом случае мы имеем известное  со школы линейное уравнение, где зависимая пременная  определяется независимой переменной\n",
        "\n",
        "Достоинства:\n",
        "1. Скорость и простота получения модели.\n",
        "2. Интерпретируемость модели. Линейная модель является прозрачной и понятной . По полученным коэффициентам регрессии можно судить о том, как тот или иной фактор влияет на результат, сделать на этой основе дополнительные полезные выводы.\n",
        "3. Широкая применимость. Большое количество реальных процессов в спорте,экономике и конечно в компьютерных играх можно с достаточной точностью описать линейными моделями.\n",
        "4. Изученность данного подхода. Для линейной регрессии известны типичные проблемы (например, мультиколлинеарность) и их решения, разработаны и реализованы тесты оценки статической\n",
        "значимости получаемых моделей.\n",
        "\n",
        "\n",
        "Недостатки:\n",
        "1. Не могут выявлять сложные зависимости в данных.\n",
        "2. Проблемы с мультиколлинеарностью"
      ],
      "metadata": {
        "id": "pTM8VI5IZ5Np"
      }
    },
    {
      "cell_type": "code",
      "source": [
        "data = {\n",
        "    'Защита': [8, 9, 16, 15, 15, 17, 16, 18],\n",
        "    'Атака': [20, 20, 25, 40, 35, 30, 29, 27],\n",
        "    'Побед': [250, 300, 500, 600, 630, 620, 480, 550]\n",
        "}\n",
        "df = pd.DataFrame(data)\n",
        "df"
      ],
      "metadata": {
        "colab": {
          "base_uri": "https://localhost:8080/",
          "height": 198
        },
        "id": "Um3eg9tLeIU6",
        "outputId": "0b120f02-2151-4275-f1ea-98bd82f579ac"
      },
      "execution_count": 1,
      "outputs": [
        {
          "output_type": "error",
          "ename": "NameError",
          "evalue": "name 'pd' is not defined",
          "traceback": [
            "\u001b[0;31m---------------------------------------------------------------------------\u001b[0m",
            "\u001b[0;31mNameError\u001b[0m                                 Traceback (most recent call last)",
            "\u001b[0;32m<ipython-input-1-72ef27b6ba79>\u001b[0m in \u001b[0;36m<cell line: 0>\u001b[0;34m()\u001b[0m\n\u001b[1;32m      4\u001b[0m     \u001b[0;34m'Побед'\u001b[0m\u001b[0;34m:\u001b[0m \u001b[0;34m[\u001b[0m\u001b[0;36m250\u001b[0m\u001b[0;34m,\u001b[0m \u001b[0;36m300\u001b[0m\u001b[0;34m,\u001b[0m \u001b[0;36m500\u001b[0m\u001b[0;34m,\u001b[0m \u001b[0;36m600\u001b[0m\u001b[0;34m,\u001b[0m \u001b[0;36m630\u001b[0m\u001b[0;34m,\u001b[0m \u001b[0;36m620\u001b[0m\u001b[0;34m,\u001b[0m \u001b[0;36m480\u001b[0m\u001b[0;34m,\u001b[0m \u001b[0;36m550\u001b[0m\u001b[0;34m]\u001b[0m\u001b[0;34m\u001b[0m\u001b[0;34m\u001b[0m\u001b[0m\n\u001b[1;32m      5\u001b[0m }\n\u001b[0;32m----> 6\u001b[0;31m \u001b[0mdf\u001b[0m \u001b[0;34m=\u001b[0m \u001b[0mpd\u001b[0m\u001b[0;34m.\u001b[0m\u001b[0mDataFrame\u001b[0m\u001b[0;34m(\u001b[0m\u001b[0mdata\u001b[0m\u001b[0;34m)\u001b[0m\u001b[0;34m\u001b[0m\u001b[0;34m\u001b[0m\u001b[0m\n\u001b[0m\u001b[1;32m      7\u001b[0m \u001b[0mdf\u001b[0m\u001b[0;34m\u001b[0m\u001b[0;34m\u001b[0m\u001b[0m\n",
            "\u001b[0;31mNameError\u001b[0m: name 'pd' is not defined"
          ]
        }
      ]
    },
    {
      "cell_type": "markdown",
      "source": [
        "Линейная регрессия\n",
        "\n",
        "- Показывает линейную модель и прогноз, прогнозируя Y используя X.\n",
        "\n",
        "- Использует величину достоверности аппроксимации для измерения процента вариации, которая объясняется моделью.\n",
        "\n",
        "-  X и Y не  взаимозаменяемые значения (поскольку Y предсказывается из X).\n",
        "\n",
        "Используем билиотеку scikit-learn для построения линейной регрессионной модели. https://scikit-learn.org/stable/modules/generated/sklearn.linear_model.LinearRegression.html"
      ],
      "metadata": {
        "id": "2BviDXqw4hoi"
      }
    },
    {
      "cell_type": "markdown",
      "source": [
        "Разделим наши данные на зависимую и независимые переменные. Обучим нашу модель на имеющихся данных"
      ],
      "metadata": {
        "id": "t6zMt0gZ5CVz"
      }
    },
    {
      "cell_type": "code",
      "source": [
        "from sklearn.linear_model import LinearRegression\n",
        "\n",
        "X, y = df[['Защита', 'Атака']], df['Побед']\n",
        "\n",
        "lr = LinearRegression(fit_intercept= False)\n",
        "\n",
        "lr.fit(X,y)\n",
        "\n",
        "pd.DataFrame({\"Коэфф-ты уравнения\":lr.coef_}, index=['Защита', 'Атака'])"
      ],
      "metadata": {
        "colab": {
          "base_uri": "https://localhost:8080/",
          "height": 216
        },
        "id": "qJGGOk6_5Fxj",
        "outputId": "0b416338-1f39-4b39-97d0-8ed0901264b2"
      },
      "execution_count": 2,
      "outputs": [
        {
          "output_type": "error",
          "ename": "NameError",
          "evalue": "name 'df' is not defined",
          "traceback": [
            "\u001b[0;31m---------------------------------------------------------------------------\u001b[0m",
            "\u001b[0;31mNameError\u001b[0m                                 Traceback (most recent call last)",
            "\u001b[0;32m<ipython-input-2-87a861b39d58>\u001b[0m in \u001b[0;36m<cell line: 0>\u001b[0;34m()\u001b[0m\n\u001b[1;32m      1\u001b[0m \u001b[0;32mfrom\u001b[0m \u001b[0msklearn\u001b[0m\u001b[0;34m.\u001b[0m\u001b[0mlinear_model\u001b[0m \u001b[0;32mimport\u001b[0m \u001b[0mLinearRegression\u001b[0m\u001b[0;34m\u001b[0m\u001b[0;34m\u001b[0m\u001b[0m\n\u001b[1;32m      2\u001b[0m \u001b[0;34m\u001b[0m\u001b[0m\n\u001b[0;32m----> 3\u001b[0;31m \u001b[0mX\u001b[0m\u001b[0;34m,\u001b[0m \u001b[0my\u001b[0m \u001b[0;34m=\u001b[0m \u001b[0mdf\u001b[0m\u001b[0;34m[\u001b[0m\u001b[0;34m[\u001b[0m\u001b[0;34m'Защита'\u001b[0m\u001b[0;34m,\u001b[0m \u001b[0;34m'Атака'\u001b[0m\u001b[0;34m]\u001b[0m\u001b[0;34m]\u001b[0m\u001b[0;34m,\u001b[0m \u001b[0mdf\u001b[0m\u001b[0;34m[\u001b[0m\u001b[0;34m'Побед'\u001b[0m\u001b[0;34m]\u001b[0m\u001b[0;34m\u001b[0m\u001b[0;34m\u001b[0m\u001b[0m\n\u001b[0m\u001b[1;32m      4\u001b[0m \u001b[0;34m\u001b[0m\u001b[0m\n\u001b[1;32m      5\u001b[0m \u001b[0mlr\u001b[0m \u001b[0;34m=\u001b[0m \u001b[0mLinearRegression\u001b[0m\u001b[0;34m(\u001b[0m\u001b[0mfit_intercept\u001b[0m\u001b[0;34m=\u001b[0m \u001b[0;32mFalse\u001b[0m\u001b[0;34m)\u001b[0m\u001b[0;34m\u001b[0m\u001b[0;34m\u001b[0m\u001b[0m\n",
            "\u001b[0;31mNameError\u001b[0m: name 'df' is not defined"
          ]
        }
      ]
    },
    {
      "cell_type": "markdown",
      "source": [
        "\n",
        "\n",
        "Таким образом возможно проследить связь между отдельными переменными и более обоснованно подходить к вопросам планирования тактики соревновательной деятельности."
      ],
      "metadata": {
        "id": "rzsBUGnl59FK"
      }
    },
    {
      "cell_type": "code",
      "source": [
        "print(\"Коэфф-т детерминации - \", lr.score(X,y))"
      ],
      "metadata": {
        "colab": {
          "base_uri": "https://localhost:8080/"
        },
        "id": "34MYgcU877ZL",
        "outputId": "ffc613ce-41d6-488f-bb10-fd12ce81ee8c"
      },
      "execution_count": null,
      "outputs": [
        {
          "output_type": "stream",
          "name": "stdout",
          "text": [
            "Коэфф-т детерминации -  0.8937631373055038\n"
          ]
        }
      ]
    },
    {
      "cell_type": "markdown",
      "source": [
        "Для проверки модели проведём ещё одни замеры на которых она не обучалась и, результаты которых ей надо будет предсказать."
      ],
      "metadata": {
        "id": "iJiXG-Dg89FS"
      }
    },
    {
      "cell_type": "code",
      "source": [
        "new_data = {\n",
        "    'Защита': [17, 16],\n",
        "    'Атака': [30, 29]\n",
        "}\n",
        "\n",
        "test_res =  [560, 520]\n"
      ],
      "metadata": {
        "id": "NOazJLtq88wj"
      },
      "execution_count": null,
      "outputs": []
    },
    {
      "cell_type": "code",
      "source": [
        "x_res = lr.predict(pd.DataFrame(new_data))\n",
        "x_res"
      ],
      "metadata": {
        "colab": {
          "base_uri": "https://localhost:8080/"
        },
        "id": "TtSHkkJG9Xii",
        "outputId": "4266ac6a-f980-4bc6-95b8-2b776922fad5"
      },
      "execution_count": null,
      "outputs": [
        {
          "output_type": "execute_result",
          "data": {
            "text/plain": [
              "array([562.85873403, 535.87837502])"
            ]
          },
          "metadata": {},
          "execution_count": 79
        }
      ]
    },
    {
      "cell_type": "markdown",
      "source": [
        "коэффициент детерминации R² может быть определён разными способами"
      ],
      "metadata": {
        "id": "HRF5e5uxHPYV"
      }
    },
    {
      "cell_type": "code",
      "source": [
        "print(\"Коэфф-т детерминации - \", lr.score(pd.DataFrame(new_data),test_res))"
      ],
      "metadata": {
        "colab": {
          "base_uri": "https://localhost:8080/"
        },
        "id": "sZJhCLWUCdwC",
        "outputId": "9dcdfb9c-d2eb-4688-d014-0b6751aaec59"
      },
      "execution_count": null,
      "outputs": [
        {
          "output_type": "stream",
          "name": "stdout",
          "text": [
            "Коэфф-т детерминации -  0.6746310581686499\n"
          ]
        }
      ]
    },
    {
      "cell_type": "code",
      "source": [
        "from sklearn.metrics import r2_score\n",
        "\n",
        "r2_score(test_res, x_res)"
      ],
      "metadata": {
        "colab": {
          "base_uri": "https://localhost:8080/"
        },
        "id": "oD3ewtw0G8uF",
        "outputId": "dffc9e12-acaf-46d4-c764-5dfeae02d78a"
      },
      "execution_count": null,
      "outputs": [
        {
          "output_type": "execute_result",
          "data": {
            "text/plain": [
              "0.6746310581686499"
            ]
          },
          "metadata": {},
          "execution_count": 81
        }
      ]
    },
    {
      "cell_type": "markdown",
      "source": [
        "Определим погрешность допущенную при применении нашей модели по методу наименьших квадратов (MSE). https://scikit-learn.org/stable/modules/generated/sklearn.metrics.mean_squared_error.html\n",
        "\n",
        "Root Mean Squared Deviation RMSD напрямую связана с MSE — значение этой меры равно корню квадратному из значения MSE для заданных наборов/\n",
        "RMSD получается установкой значения гиперпараметра squared=False."
      ],
      "metadata": {
        "id": "u9AMJQ9ZFyFw"
      }
    },
    {
      "cell_type": "code",
      "source": [
        "from sklearn.metrics import mean_squared_error\n",
        "\n",
        "mean_squared_error(test_res, x_res), mean_squared_error(test_res, x_res, squared=False)"
      ],
      "metadata": {
        "colab": {
          "base_uri": "https://localhost:8080/"
        },
        "id": "RZLlL-PdFBbf",
        "outputId": "3b84997d-fc08-4e9c-e4e5-e54138e0d594"
      },
      "execution_count": null,
      "outputs": [
        {
          "output_type": "execute_result",
          "data": {
            "text/plain": [
              "(130.14757673254002, 11.408224083201558)"
            ]
          },
          "metadata": {},
          "execution_count": 82
        }
      ]
    },
    {
      "cell_type": "markdown",
      "source": [
        "При наличии \"выбросов\" иногда лучше использовать оценку Mean Absolute Error MAE (Средняя Абсолютная Ошибка) — меру схожести предсказаний и правильных значений для каких-либо наблюдений по модулю разности. Метрики и оценки: количественная оценка качества прогнозов https://scikit-learn.ru/3-3-metrics-and-scoring-quantifying-the-quality-of-predictions/"
      ],
      "metadata": {
        "id": "FSXW5XM6IIkl"
      }
    },
    {
      "cell_type": "code",
      "source": [
        "from sklearn.metrics import accuracy_score\n",
        "from sklearn.metrics import precision_score, recall_score\n",
        "from sklearn.metrics import f1_score\n",
        "from sklearn.metrics import mean_absolute_error\n",
        "\n",
        "rmse = mean_squared_error(test_res, x_res,squared=False)\n",
        "r2 = r2_score(test_res, x_res)\n",
        "print('RMSE:', rmse)\n",
        "print('R2:', r2)\n",
        "print(\"MAE: \", mean_absolute_error(test_res, x_res))"
      ],
      "metadata": {
        "colab": {
          "base_uri": "https://localhost:8080/",
          "height": 216
        },
        "id": "GMZCq5LrH-Hw",
        "outputId": "b51c6cbf-6f5d-4268-f08f-5f2a3cc3232b"
      },
      "execution_count": 3,
      "outputs": [
        {
          "output_type": "error",
          "ename": "NameError",
          "evalue": "name 'mean_squared_error' is not defined",
          "traceback": [
            "\u001b[0;31m---------------------------------------------------------------------------\u001b[0m",
            "\u001b[0;31mNameError\u001b[0m                                 Traceback (most recent call last)",
            "\u001b[0;32m<ipython-input-3-a701443cdf74>\u001b[0m in \u001b[0;36m<cell line: 0>\u001b[0;34m()\u001b[0m\n\u001b[1;32m      4\u001b[0m \u001b[0;32mfrom\u001b[0m \u001b[0msklearn\u001b[0m\u001b[0;34m.\u001b[0m\u001b[0mmetrics\u001b[0m \u001b[0;32mimport\u001b[0m \u001b[0mmean_absolute_error\u001b[0m\u001b[0;34m\u001b[0m\u001b[0;34m\u001b[0m\u001b[0m\n\u001b[1;32m      5\u001b[0m \u001b[0;34m\u001b[0m\u001b[0m\n\u001b[0;32m----> 6\u001b[0;31m \u001b[0mrmse\u001b[0m \u001b[0;34m=\u001b[0m \u001b[0mmean_squared_error\u001b[0m\u001b[0;34m(\u001b[0m\u001b[0mtest_res\u001b[0m\u001b[0;34m,\u001b[0m \u001b[0mx_res\u001b[0m\u001b[0;34m,\u001b[0m\u001b[0msquared\u001b[0m\u001b[0;34m=\u001b[0m\u001b[0;32mFalse\u001b[0m\u001b[0;34m)\u001b[0m\u001b[0;34m\u001b[0m\u001b[0;34m\u001b[0m\u001b[0m\n\u001b[0m\u001b[1;32m      7\u001b[0m \u001b[0mr2\u001b[0m \u001b[0;34m=\u001b[0m \u001b[0mr2_score\u001b[0m\u001b[0;34m(\u001b[0m\u001b[0mtest_res\u001b[0m\u001b[0;34m,\u001b[0m \u001b[0mx_res\u001b[0m\u001b[0;34m)\u001b[0m\u001b[0;34m\u001b[0m\u001b[0;34m\u001b[0m\u001b[0m\n\u001b[1;32m      8\u001b[0m \u001b[0mprint\u001b[0m\u001b[0;34m(\u001b[0m\u001b[0;34m'RMSE:'\u001b[0m\u001b[0;34m,\u001b[0m \u001b[0mrmse\u001b[0m\u001b[0;34m)\u001b[0m\u001b[0;34m\u001b[0m\u001b[0;34m\u001b[0m\u001b[0m\n",
            "\u001b[0;31mNameError\u001b[0m: name 'mean_squared_error' is not defined"
          ]
        }
      ]
    },
    {
      "cell_type": "markdown",
      "source": [
        "Иногда бывает полезно усложнить модель, учитывая нелинейные особенности входных данных. Простой и распространенный метод использования — это полиномиальные функции, которые могут получить термины высокого порядка и взаимодействия функций. Реализован в PolynomialFeatures"
      ],
      "metadata": {
        "id": "qeHLz-zDIxAo"
      }
    },
    {
      "cell_type": "code",
      "source": [
        "from sklearn.preprocessing import PolynomialFeatures\n",
        "x, y = df[['Защита', 'Атака']], df['Побед']\n",
        "\n",
        "# sklearn генерирует допольнительное кол-во признаков для полиномиальной регресии\n",
        "polynomial_features = PolynomialFeatures(degree=2) # указываем вторую степень полинома\n",
        "x_poly = polynomial_features.fit_transform(x) # получаем новые признаки\n",
        "\n",
        "model = LinearRegression(fit_intercept= False)\n",
        "model.fit(x_poly, y)\n",
        "y_poly_pred = model.predict(x_poly)\n",
        "plt.figure(figsize=(7,6))\n",
        "\n",
        "rmse = np.sqrt(mean_squared_error(y, y_poly_pred))\n",
        "r2 = r2_score(y, y_poly_pred)\n",
        "print('MSE:', rmse)\n",
        "print('R2:', r2)\n",
        "plt.scatter(df['Побед'].index, df['Побед'])\n",
        "\n",
        "plt.plot(df['Побед'].index, y_poly_pred, color='r')\n",
        "plt.show()"
      ],
      "metadata": {
        "colab": {
          "base_uri": "https://localhost:8080/",
          "height": 216
        },
        "id": "FRHM9YWEJqiG",
        "outputId": "db78111c-91ee-4a34-ecac-f84a797baa3e"
      },
      "execution_count": 4,
      "outputs": [
        {
          "output_type": "error",
          "ename": "NameError",
          "evalue": "name 'df' is not defined",
          "traceback": [
            "\u001b[0;31m---------------------------------------------------------------------------\u001b[0m",
            "\u001b[0;31mNameError\u001b[0m                                 Traceback (most recent call last)",
            "\u001b[0;32m<ipython-input-4-4a56461138b3>\u001b[0m in \u001b[0;36m<cell line: 0>\u001b[0;34m()\u001b[0m\n\u001b[1;32m      1\u001b[0m \u001b[0;32mfrom\u001b[0m \u001b[0msklearn\u001b[0m\u001b[0;34m.\u001b[0m\u001b[0mpreprocessing\u001b[0m \u001b[0;32mimport\u001b[0m \u001b[0mPolynomialFeatures\u001b[0m\u001b[0;34m\u001b[0m\u001b[0;34m\u001b[0m\u001b[0m\n\u001b[0;32m----> 2\u001b[0;31m \u001b[0mx\u001b[0m\u001b[0;34m,\u001b[0m \u001b[0my\u001b[0m \u001b[0;34m=\u001b[0m \u001b[0mdf\u001b[0m\u001b[0;34m[\u001b[0m\u001b[0;34m[\u001b[0m\u001b[0;34m'Защита'\u001b[0m\u001b[0;34m,\u001b[0m \u001b[0;34m'Атака'\u001b[0m\u001b[0;34m]\u001b[0m\u001b[0;34m]\u001b[0m\u001b[0;34m,\u001b[0m \u001b[0mdf\u001b[0m\u001b[0;34m[\u001b[0m\u001b[0;34m'Побед'\u001b[0m\u001b[0;34m]\u001b[0m\u001b[0;34m\u001b[0m\u001b[0;34m\u001b[0m\u001b[0m\n\u001b[0m\u001b[1;32m      3\u001b[0m \u001b[0;34m\u001b[0m\u001b[0m\n\u001b[1;32m      4\u001b[0m \u001b[0;31m# sklearn генерирует допольнительное кол-во признаков для полиномиальной регресии\u001b[0m\u001b[0;34m\u001b[0m\u001b[0;34m\u001b[0m\u001b[0m\n\u001b[1;32m      5\u001b[0m \u001b[0mpolynomial_features\u001b[0m \u001b[0;34m=\u001b[0m \u001b[0mPolynomialFeatures\u001b[0m\u001b[0;34m(\u001b[0m\u001b[0mdegree\u001b[0m\u001b[0;34m=\u001b[0m\u001b[0;36m2\u001b[0m\u001b[0;34m)\u001b[0m \u001b[0;31m# указываем вторую степень полинома\u001b[0m\u001b[0;34m\u001b[0m\u001b[0;34m\u001b[0m\u001b[0m\n",
            "\u001b[0;31mNameError\u001b[0m: name 'df' is not defined"
          ]
        }
      ]
    },
    {
      "cell_type": "code",
      "source": [
        "x_res = model.predict(polynomial_features.fit_transform(pd.DataFrame(new_data)))\n",
        "x_res, r2_score(test_res, x_res)"
      ],
      "metadata": {
        "colab": {
          "base_uri": "https://localhost:8080/"
        },
        "id": "937qlWTunSZC",
        "outputId": "9247da84-87c1-45eb-c90a-7996eb575e0b"
      },
      "execution_count": null,
      "outputs": [
        {
          "output_type": "execute_result",
          "data": {
            "text/plain": [
              "(array([592.56659195, 552.61404731]), -1.6553237413861677)"
            ]
          },
          "metadata": {},
          "execution_count": 85
        }
      ]
    },
    {
      "cell_type": "code",
      "source": [
        "pd.DataFrame({\"перем-я\":PolynomialFeatures(degree=2).fit(x).get_feature_names_out(x.columns),\n",
        "              \"коэф-т\":model.coef_})"
      ],
      "metadata": {
        "colab": {
          "base_uri": "https://localhost:8080/",
          "height": 238
        },
        "id": "Dx8AThn_cHJX",
        "outputId": "284aa6b4-4339-4f6f-dbba-bc95cdb452ed"
      },
      "execution_count": null,
      "outputs": [
        {
          "output_type": "execute_result",
          "data": {
            "text/plain": [
              "        перем-я     коэф-т\n",
              "0             1  98.138805\n",
              "1        Защита   3.276951\n",
              "2         Атака   0.649696\n",
              "3      Защита^2  -1.733846\n",
              "4  Защита Атака   2.618941\n",
              "5       Атака^2  -0.461500"
            ],
            "text/html": [
              "\n",
              "  <div id=\"df-5fd072bf-576b-4c32-9eb8-4d5373379374\">\n",
              "    <div class=\"colab-df-container\">\n",
              "      <div>\n",
              "<style scoped>\n",
              "    .dataframe tbody tr th:only-of-type {\n",
              "        vertical-align: middle;\n",
              "    }\n",
              "\n",
              "    .dataframe tbody tr th {\n",
              "        vertical-align: top;\n",
              "    }\n",
              "\n",
              "    .dataframe thead th {\n",
              "        text-align: right;\n",
              "    }\n",
              "</style>\n",
              "<table border=\"1\" class=\"dataframe\">\n",
              "  <thead>\n",
              "    <tr style=\"text-align: right;\">\n",
              "      <th></th>\n",
              "      <th>перем-я</th>\n",
              "      <th>коэф-т</th>\n",
              "    </tr>\n",
              "  </thead>\n",
              "  <tbody>\n",
              "    <tr>\n",
              "      <th>0</th>\n",
              "      <td>1</td>\n",
              "      <td>98.138805</td>\n",
              "    </tr>\n",
              "    <tr>\n",
              "      <th>1</th>\n",
              "      <td>Защита</td>\n",
              "      <td>3.276951</td>\n",
              "    </tr>\n",
              "    <tr>\n",
              "      <th>2</th>\n",
              "      <td>Атака</td>\n",
              "      <td>0.649696</td>\n",
              "    </tr>\n",
              "    <tr>\n",
              "      <th>3</th>\n",
              "      <td>Защита^2</td>\n",
              "      <td>-1.733846</td>\n",
              "    </tr>\n",
              "    <tr>\n",
              "      <th>4</th>\n",
              "      <td>Защита Атака</td>\n",
              "      <td>2.618941</td>\n",
              "    </tr>\n",
              "    <tr>\n",
              "      <th>5</th>\n",
              "      <td>Атака^2</td>\n",
              "      <td>-0.461500</td>\n",
              "    </tr>\n",
              "  </tbody>\n",
              "</table>\n",
              "</div>\n",
              "      <button class=\"colab-df-convert\" onclick=\"convertToInteractive('df-5fd072bf-576b-4c32-9eb8-4d5373379374')\"\n",
              "              title=\"Convert this dataframe to an interactive table.\"\n",
              "              style=\"display:none;\">\n",
              "        \n",
              "  <svg xmlns=\"http://www.w3.org/2000/svg\" height=\"24px\"viewBox=\"0 0 24 24\"\n",
              "       width=\"24px\">\n",
              "    <path d=\"M0 0h24v24H0V0z\" fill=\"none\"/>\n",
              "    <path d=\"M18.56 5.44l.94 2.06.94-2.06 2.06-.94-2.06-.94-.94-2.06-.94 2.06-2.06.94zm-11 1L8.5 8.5l.94-2.06 2.06-.94-2.06-.94L8.5 2.5l-.94 2.06-2.06.94zm10 10l.94 2.06.94-2.06 2.06-.94-2.06-.94-.94-2.06-.94 2.06-2.06.94z\"/><path d=\"M17.41 7.96l-1.37-1.37c-.4-.4-.92-.59-1.43-.59-.52 0-1.04.2-1.43.59L10.3 9.45l-7.72 7.72c-.78.78-.78 2.05 0 2.83L4 21.41c.39.39.9.59 1.41.59.51 0 1.02-.2 1.41-.59l7.78-7.78 2.81-2.81c.8-.78.8-2.07 0-2.86zM5.41 20L4 18.59l7.72-7.72 1.47 1.35L5.41 20z\"/>\n",
              "  </svg>\n",
              "      </button>\n",
              "      \n",
              "  <style>\n",
              "    .colab-df-container {\n",
              "      display:flex;\n",
              "      flex-wrap:wrap;\n",
              "      gap: 12px;\n",
              "    }\n",
              "\n",
              "    .colab-df-convert {\n",
              "      background-color: #E8F0FE;\n",
              "      border: none;\n",
              "      border-radius: 50%;\n",
              "      cursor: pointer;\n",
              "      display: none;\n",
              "      fill: #1967D2;\n",
              "      height: 32px;\n",
              "      padding: 0 0 0 0;\n",
              "      width: 32px;\n",
              "    }\n",
              "\n",
              "    .colab-df-convert:hover {\n",
              "      background-color: #E2EBFA;\n",
              "      box-shadow: 0px 1px 2px rgba(60, 64, 67, 0.3), 0px 1px 3px 1px rgba(60, 64, 67, 0.15);\n",
              "      fill: #174EA6;\n",
              "    }\n",
              "\n",
              "    [theme=dark] .colab-df-convert {\n",
              "      background-color: #3B4455;\n",
              "      fill: #D2E3FC;\n",
              "    }\n",
              "\n",
              "    [theme=dark] .colab-df-convert:hover {\n",
              "      background-color: #434B5C;\n",
              "      box-shadow: 0px 1px 3px 1px rgba(0, 0, 0, 0.15);\n",
              "      filter: drop-shadow(0px 1px 2px rgba(0, 0, 0, 0.3));\n",
              "      fill: #FFFFFF;\n",
              "    }\n",
              "  </style>\n",
              "\n",
              "      <script>\n",
              "        const buttonEl =\n",
              "          document.querySelector('#df-5fd072bf-576b-4c32-9eb8-4d5373379374 button.colab-df-convert');\n",
              "        buttonEl.style.display =\n",
              "          google.colab.kernel.accessAllowed ? 'block' : 'none';\n",
              "\n",
              "        async function convertToInteractive(key) {\n",
              "          const element = document.querySelector('#df-5fd072bf-576b-4c32-9eb8-4d5373379374');\n",
              "          const dataTable =\n",
              "            await google.colab.kernel.invokeFunction('convertToInteractive',\n",
              "                                                     [key], {});\n",
              "          if (!dataTable) return;\n",
              "\n",
              "          const docLinkHtml = 'Like what you see? Visit the ' +\n",
              "            '<a target=\"_blank\" href=https://colab.research.google.com/notebooks/data_table.ipynb>data table notebook</a>'\n",
              "            + ' to learn more about interactive tables.';\n",
              "          element.innerHTML = '';\n",
              "          dataTable['output_type'] = 'display_data';\n",
              "          await google.colab.output.renderOutput(dataTable, element);\n",
              "          const docLink = document.createElement('div');\n",
              "          docLink.innerHTML = docLinkHtml;\n",
              "          element.appendChild(docLink);\n",
              "        }\n",
              "      </script>\n",
              "    </div>\n",
              "  </div>\n",
              "  "
            ]
          },
          "metadata": {},
          "execution_count": 86
        }
      ]
    },
    {
      "cell_type": "markdown",
      "source": [
        "Однако погоня за максимально точным описанием данных часто приводит к переобучению модели.\n",
        "\n",
        "Используем для регрессии полином третьей степени."
      ],
      "metadata": {
        "id": "KQ5glTWRxOzJ"
      }
    },
    {
      "cell_type": "code",
      "source": [
        "polynomial_features = PolynomialFeatures(degree=3)\n",
        "x_poly = polynomial_features.fit_transform(x)\n",
        "\n",
        "model = LinearRegression()\n",
        "model.fit(x_poly, y)\n",
        "y_poly_pred = model.predict(x_poly)\n",
        "plt.figure(figsize=(12,9))\n",
        "\n",
        "rmse = np.sqrt(mean_squared_error(y, y_poly_pred))\n",
        "r2 = r2_score(y, y_poly_pred)\n",
        "print('MSE:', rmse)\n",
        "print('R2:', r2)\n",
        "plt.scatter(df['Побед'].index, df['Побед'])\n",
        "\n",
        "plt.plot(df['Побед'].index, y_poly_pred, color='r')\n",
        "plt.show()"
      ],
      "metadata": {
        "colab": {
          "base_uri": "https://localhost:8080/",
          "height": 216
        },
        "id": "FwnCNHadM58V",
        "outputId": "c11323ce-1318-4894-9aa3-520a48ada4fc"
      },
      "execution_count": 5,
      "outputs": [
        {
          "output_type": "error",
          "ename": "NameError",
          "evalue": "name 'x' is not defined",
          "traceback": [
            "\u001b[0;31m---------------------------------------------------------------------------\u001b[0m",
            "\u001b[0;31mNameError\u001b[0m                                 Traceback (most recent call last)",
            "\u001b[0;32m<ipython-input-5-cc91ba35adda>\u001b[0m in \u001b[0;36m<cell line: 0>\u001b[0;34m()\u001b[0m\n\u001b[1;32m      1\u001b[0m \u001b[0mpolynomial_features\u001b[0m \u001b[0;34m=\u001b[0m \u001b[0mPolynomialFeatures\u001b[0m\u001b[0;34m(\u001b[0m\u001b[0mdegree\u001b[0m\u001b[0;34m=\u001b[0m\u001b[0;36m3\u001b[0m\u001b[0;34m)\u001b[0m\u001b[0;34m\u001b[0m\u001b[0;34m\u001b[0m\u001b[0m\n\u001b[0;32m----> 2\u001b[0;31m \u001b[0mx_poly\u001b[0m \u001b[0;34m=\u001b[0m \u001b[0mpolynomial_features\u001b[0m\u001b[0;34m.\u001b[0m\u001b[0mfit_transform\u001b[0m\u001b[0;34m(\u001b[0m\u001b[0mx\u001b[0m\u001b[0;34m)\u001b[0m\u001b[0;34m\u001b[0m\u001b[0;34m\u001b[0m\u001b[0m\n\u001b[0m\u001b[1;32m      3\u001b[0m \u001b[0;34m\u001b[0m\u001b[0m\n\u001b[1;32m      4\u001b[0m \u001b[0mmodel\u001b[0m \u001b[0;34m=\u001b[0m \u001b[0mLinearRegression\u001b[0m\u001b[0;34m(\u001b[0m\u001b[0;34m)\u001b[0m\u001b[0;34m\u001b[0m\u001b[0;34m\u001b[0m\u001b[0m\n\u001b[1;32m      5\u001b[0m \u001b[0mmodel\u001b[0m\u001b[0;34m.\u001b[0m\u001b[0mfit\u001b[0m\u001b[0;34m(\u001b[0m\u001b[0mx_poly\u001b[0m\u001b[0;34m,\u001b[0m \u001b[0my\u001b[0m\u001b[0;34m)\u001b[0m\u001b[0;34m\u001b[0m\u001b[0;34m\u001b[0m\u001b[0m\n",
            "\u001b[0;31mNameError\u001b[0m: name 'x' is not defined"
          ]
        }
      ]
    },
    {
      "cell_type": "code",
      "source": [
        "pd.DataFrame({\"перем-я\":PolynomialFeatures(degree=3).fit(x).get_feature_names_out(x.columns),\n",
        "              \"коэф-т\":model.coef_})"
      ],
      "metadata": {
        "colab": {
          "base_uri": "https://localhost:8080/",
          "height": 363
        },
        "id": "qq0cHz7TUmO3",
        "outputId": "9a6bab58-2973-44a8-85e0-fedb34f3b69a"
      },
      "execution_count": null,
      "outputs": [
        {
          "output_type": "execute_result",
          "data": {
            "text/plain": [
              "          перем-я        коэф-т\n",
              "0               1  6.772858e-11\n",
              "1          Защита -1.143446e+00\n",
              "2           Атака -1.370990e+00\n",
              "3        Защита^2  7.685816e+01\n",
              "4    Защита Атака -7.418706e+01\n",
              "5         Атака^2  8.308342e+00\n",
              "6        Защита^3  2.744770e-01\n",
              "7  Защита^2 Атака -3.677943e+00\n",
              "8  Защита Атака^2  3.548087e+00\n",
              "9         Атака^3 -6.340852e-01"
            ],
            "text/html": [
              "\n",
              "  <div id=\"df-7dadfea9-56d8-4683-932f-d8621ec61dac\">\n",
              "    <div class=\"colab-df-container\">\n",
              "      <div>\n",
              "<style scoped>\n",
              "    .dataframe tbody tr th:only-of-type {\n",
              "        vertical-align: middle;\n",
              "    }\n",
              "\n",
              "    .dataframe tbody tr th {\n",
              "        vertical-align: top;\n",
              "    }\n",
              "\n",
              "    .dataframe thead th {\n",
              "        text-align: right;\n",
              "    }\n",
              "</style>\n",
              "<table border=\"1\" class=\"dataframe\">\n",
              "  <thead>\n",
              "    <tr style=\"text-align: right;\">\n",
              "      <th></th>\n",
              "      <th>перем-я</th>\n",
              "      <th>коэф-т</th>\n",
              "    </tr>\n",
              "  </thead>\n",
              "  <tbody>\n",
              "    <tr>\n",
              "      <th>0</th>\n",
              "      <td>1</td>\n",
              "      <td>6.772858e-11</td>\n",
              "    </tr>\n",
              "    <tr>\n",
              "      <th>1</th>\n",
              "      <td>Защита</td>\n",
              "      <td>-1.143446e+00</td>\n",
              "    </tr>\n",
              "    <tr>\n",
              "      <th>2</th>\n",
              "      <td>Атака</td>\n",
              "      <td>-1.370990e+00</td>\n",
              "    </tr>\n",
              "    <tr>\n",
              "      <th>3</th>\n",
              "      <td>Защита^2</td>\n",
              "      <td>7.685816e+01</td>\n",
              "    </tr>\n",
              "    <tr>\n",
              "      <th>4</th>\n",
              "      <td>Защита Атака</td>\n",
              "      <td>-7.418706e+01</td>\n",
              "    </tr>\n",
              "    <tr>\n",
              "      <th>5</th>\n",
              "      <td>Атака^2</td>\n",
              "      <td>8.308342e+00</td>\n",
              "    </tr>\n",
              "    <tr>\n",
              "      <th>6</th>\n",
              "      <td>Защита^3</td>\n",
              "      <td>2.744770e-01</td>\n",
              "    </tr>\n",
              "    <tr>\n",
              "      <th>7</th>\n",
              "      <td>Защита^2 Атака</td>\n",
              "      <td>-3.677943e+00</td>\n",
              "    </tr>\n",
              "    <tr>\n",
              "      <th>8</th>\n",
              "      <td>Защита Атака^2</td>\n",
              "      <td>3.548087e+00</td>\n",
              "    </tr>\n",
              "    <tr>\n",
              "      <th>9</th>\n",
              "      <td>Атака^3</td>\n",
              "      <td>-6.340852e-01</td>\n",
              "    </tr>\n",
              "  </tbody>\n",
              "</table>\n",
              "</div>\n",
              "      <button class=\"colab-df-convert\" onclick=\"convertToInteractive('df-7dadfea9-56d8-4683-932f-d8621ec61dac')\"\n",
              "              title=\"Convert this dataframe to an interactive table.\"\n",
              "              style=\"display:none;\">\n",
              "        \n",
              "  <svg xmlns=\"http://www.w3.org/2000/svg\" height=\"24px\"viewBox=\"0 0 24 24\"\n",
              "       width=\"24px\">\n",
              "    <path d=\"M0 0h24v24H0V0z\" fill=\"none\"/>\n",
              "    <path d=\"M18.56 5.44l.94 2.06.94-2.06 2.06-.94-2.06-.94-.94-2.06-.94 2.06-2.06.94zm-11 1L8.5 8.5l.94-2.06 2.06-.94-2.06-.94L8.5 2.5l-.94 2.06-2.06.94zm10 10l.94 2.06.94-2.06 2.06-.94-2.06-.94-.94-2.06-.94 2.06-2.06.94z\"/><path d=\"M17.41 7.96l-1.37-1.37c-.4-.4-.92-.59-1.43-.59-.52 0-1.04.2-1.43.59L10.3 9.45l-7.72 7.72c-.78.78-.78 2.05 0 2.83L4 21.41c.39.39.9.59 1.41.59.51 0 1.02-.2 1.41-.59l7.78-7.78 2.81-2.81c.8-.78.8-2.07 0-2.86zM5.41 20L4 18.59l7.72-7.72 1.47 1.35L5.41 20z\"/>\n",
              "  </svg>\n",
              "      </button>\n",
              "      \n",
              "  <style>\n",
              "    .colab-df-container {\n",
              "      display:flex;\n",
              "      flex-wrap:wrap;\n",
              "      gap: 12px;\n",
              "    }\n",
              "\n",
              "    .colab-df-convert {\n",
              "      background-color: #E8F0FE;\n",
              "      border: none;\n",
              "      border-radius: 50%;\n",
              "      cursor: pointer;\n",
              "      display: none;\n",
              "      fill: #1967D2;\n",
              "      height: 32px;\n",
              "      padding: 0 0 0 0;\n",
              "      width: 32px;\n",
              "    }\n",
              "\n",
              "    .colab-df-convert:hover {\n",
              "      background-color: #E2EBFA;\n",
              "      box-shadow: 0px 1px 2px rgba(60, 64, 67, 0.3), 0px 1px 3px 1px rgba(60, 64, 67, 0.15);\n",
              "      fill: #174EA6;\n",
              "    }\n",
              "\n",
              "    [theme=dark] .colab-df-convert {\n",
              "      background-color: #3B4455;\n",
              "      fill: #D2E3FC;\n",
              "    }\n",
              "\n",
              "    [theme=dark] .colab-df-convert:hover {\n",
              "      background-color: #434B5C;\n",
              "      box-shadow: 0px 1px 3px 1px rgba(0, 0, 0, 0.15);\n",
              "      filter: drop-shadow(0px 1px 2px rgba(0, 0, 0, 0.3));\n",
              "      fill: #FFFFFF;\n",
              "    }\n",
              "  </style>\n",
              "\n",
              "      <script>\n",
              "        const buttonEl =\n",
              "          document.querySelector('#df-7dadfea9-56d8-4683-932f-d8621ec61dac button.colab-df-convert');\n",
              "        buttonEl.style.display =\n",
              "          google.colab.kernel.accessAllowed ? 'block' : 'none';\n",
              "\n",
              "        async function convertToInteractive(key) {\n",
              "          const element = document.querySelector('#df-7dadfea9-56d8-4683-932f-d8621ec61dac');\n",
              "          const dataTable =\n",
              "            await google.colab.kernel.invokeFunction('convertToInteractive',\n",
              "                                                     [key], {});\n",
              "          if (!dataTable) return;\n",
              "\n",
              "          const docLinkHtml = 'Like what you see? Visit the ' +\n",
              "            '<a target=\"_blank\" href=https://colab.research.google.com/notebooks/data_table.ipynb>data table notebook</a>'\n",
              "            + ' to learn more about interactive tables.';\n",
              "          element.innerHTML = '';\n",
              "          dataTable['output_type'] = 'display_data';\n",
              "          await google.colab.output.renderOutput(dataTable, element);\n",
              "          const docLink = document.createElement('div');\n",
              "          docLink.innerHTML = docLinkHtml;\n",
              "          element.appendChild(docLink);\n",
              "        }\n",
              "      </script>\n",
              "    </div>\n",
              "  </div>\n",
              "  "
            ]
          },
          "metadata": {},
          "execution_count": 88
        }
      ]
    },
    {
      "cell_type": "markdown",
      "source": [
        "# Реальные данные"
      ],
      "metadata": {
        "id": "f45ku2grtkOM"
      }
    },
    {
      "cell_type": "code",
      "source": [
        "lol = pd.read_csv('https://raw.githubusercontent.com/vn322/Sport-University/main/esport/high_diamond_ranked_10min.csv')\n",
        "lol.head(3)"
      ],
      "metadata": {
        "colab": {
          "base_uri": "https://localhost:8080/",
          "height": 162
        },
        "id": "89WRzL10RkIg",
        "outputId": "f3e324a9-6b27-4e47-f1dc-0af9613794e8"
      },
      "execution_count": 6,
      "outputs": [
        {
          "output_type": "error",
          "ename": "NameError",
          "evalue": "name 'pd' is not defined",
          "traceback": [
            "\u001b[0;31m---------------------------------------------------------------------------\u001b[0m",
            "\u001b[0;31mNameError\u001b[0m                                 Traceback (most recent call last)",
            "\u001b[0;32m<ipython-input-6-2686f22c4fa4>\u001b[0m in \u001b[0;36m<cell line: 0>\u001b[0;34m()\u001b[0m\n\u001b[0;32m----> 1\u001b[0;31m \u001b[0mlol\u001b[0m \u001b[0;34m=\u001b[0m \u001b[0mpd\u001b[0m\u001b[0;34m.\u001b[0m\u001b[0mread_csv\u001b[0m\u001b[0;34m(\u001b[0m\u001b[0;34m'https://raw.githubusercontent.com/vn322/Sport-University/main/esport/high_diamond_ranked_10min.csv'\u001b[0m\u001b[0;34m)\u001b[0m\u001b[0;34m\u001b[0m\u001b[0;34m\u001b[0m\u001b[0m\n\u001b[0m\u001b[1;32m      2\u001b[0m \u001b[0mlol\u001b[0m\u001b[0;34m.\u001b[0m\u001b[0mhead\u001b[0m\u001b[0;34m(\u001b[0m\u001b[0;36m3\u001b[0m\u001b[0;34m)\u001b[0m\u001b[0;34m\u001b[0m\u001b[0;34m\u001b[0m\u001b[0m\n",
            "\u001b[0;31mNameError\u001b[0m: name 'pd' is not defined"
          ]
        }
      ]
    },
    {
      "cell_type": "code",
      "source": [
        "X=lol[['blueDeaths','blueWardsPlaced', 'blueWardsDestroyed',\n",
        "       'blueTowersDestroyed', 'blueTotalGold', 'blueAssists','blueTotalMinionsKilled']]\n",
        "y=lol['blueKills']"
      ],
      "metadata": {
        "id": "nZxjsYyzRwV3"
      },
      "execution_count": null,
      "outputs": []
    },
    {
      "cell_type": "code",
      "source": [
        "X.iloc[[2]]"
      ],
      "metadata": {
        "colab": {
          "base_uri": "https://localhost:8080/",
          "height": 145
        },
        "id": "0X0LYJSwR7MS",
        "outputId": "ba0d6843-8954-4055-cc6e-504f599f756f"
      },
      "execution_count": null,
      "outputs": [
        {
          "output_type": "execute_result",
          "data": {
            "text/plain": [
              "   blueDeaths  blueWardsPlaced  blueWardsDestroyed  blueTowersDestroyed  \\\n",
              "2          11               15                   0                    0   \n",
              "\n",
              "   blueTotalGold  blueAssists  blueTotalMinionsKilled  \n",
              "2          16113            4                     186  "
            ],
            "text/html": [
              "\n",
              "  <div id=\"df-066c5c09-aec4-43aa-a356-601b90d872e4\">\n",
              "    <div class=\"colab-df-container\">\n",
              "      <div>\n",
              "<style scoped>\n",
              "    .dataframe tbody tr th:only-of-type {\n",
              "        vertical-align: middle;\n",
              "    }\n",
              "\n",
              "    .dataframe tbody tr th {\n",
              "        vertical-align: top;\n",
              "    }\n",
              "\n",
              "    .dataframe thead th {\n",
              "        text-align: right;\n",
              "    }\n",
              "</style>\n",
              "<table border=\"1\" class=\"dataframe\">\n",
              "  <thead>\n",
              "    <tr style=\"text-align: right;\">\n",
              "      <th></th>\n",
              "      <th>blueDeaths</th>\n",
              "      <th>blueWardsPlaced</th>\n",
              "      <th>blueWardsDestroyed</th>\n",
              "      <th>blueTowersDestroyed</th>\n",
              "      <th>blueTotalGold</th>\n",
              "      <th>blueAssists</th>\n",
              "      <th>blueTotalMinionsKilled</th>\n",
              "    </tr>\n",
              "  </thead>\n",
              "  <tbody>\n",
              "    <tr>\n",
              "      <th>2</th>\n",
              "      <td>11</td>\n",
              "      <td>15</td>\n",
              "      <td>0</td>\n",
              "      <td>0</td>\n",
              "      <td>16113</td>\n",
              "      <td>4</td>\n",
              "      <td>186</td>\n",
              "    </tr>\n",
              "  </tbody>\n",
              "</table>\n",
              "</div>\n",
              "      <button class=\"colab-df-convert\" onclick=\"convertToInteractive('df-066c5c09-aec4-43aa-a356-601b90d872e4')\"\n",
              "              title=\"Convert this dataframe to an interactive table.\"\n",
              "              style=\"display:none;\">\n",
              "        \n",
              "  <svg xmlns=\"http://www.w3.org/2000/svg\" height=\"24px\"viewBox=\"0 0 24 24\"\n",
              "       width=\"24px\">\n",
              "    <path d=\"M0 0h24v24H0V0z\" fill=\"none\"/>\n",
              "    <path d=\"M18.56 5.44l.94 2.06.94-2.06 2.06-.94-2.06-.94-.94-2.06-.94 2.06-2.06.94zm-11 1L8.5 8.5l.94-2.06 2.06-.94-2.06-.94L8.5 2.5l-.94 2.06-2.06.94zm10 10l.94 2.06.94-2.06 2.06-.94-2.06-.94-.94-2.06-.94 2.06-2.06.94z\"/><path d=\"M17.41 7.96l-1.37-1.37c-.4-.4-.92-.59-1.43-.59-.52 0-1.04.2-1.43.59L10.3 9.45l-7.72 7.72c-.78.78-.78 2.05 0 2.83L4 21.41c.39.39.9.59 1.41.59.51 0 1.02-.2 1.41-.59l7.78-7.78 2.81-2.81c.8-.78.8-2.07 0-2.86zM5.41 20L4 18.59l7.72-7.72 1.47 1.35L5.41 20z\"/>\n",
              "  </svg>\n",
              "      </button>\n",
              "      \n",
              "  <style>\n",
              "    .colab-df-container {\n",
              "      display:flex;\n",
              "      flex-wrap:wrap;\n",
              "      gap: 12px;\n",
              "    }\n",
              "\n",
              "    .colab-df-convert {\n",
              "      background-color: #E8F0FE;\n",
              "      border: none;\n",
              "      border-radius: 50%;\n",
              "      cursor: pointer;\n",
              "      display: none;\n",
              "      fill: #1967D2;\n",
              "      height: 32px;\n",
              "      padding: 0 0 0 0;\n",
              "      width: 32px;\n",
              "    }\n",
              "\n",
              "    .colab-df-convert:hover {\n",
              "      background-color: #E2EBFA;\n",
              "      box-shadow: 0px 1px 2px rgba(60, 64, 67, 0.3), 0px 1px 3px 1px rgba(60, 64, 67, 0.15);\n",
              "      fill: #174EA6;\n",
              "    }\n",
              "\n",
              "    [theme=dark] .colab-df-convert {\n",
              "      background-color: #3B4455;\n",
              "      fill: #D2E3FC;\n",
              "    }\n",
              "\n",
              "    [theme=dark] .colab-df-convert:hover {\n",
              "      background-color: #434B5C;\n",
              "      box-shadow: 0px 1px 3px 1px rgba(0, 0, 0, 0.15);\n",
              "      filter: drop-shadow(0px 1px 2px rgba(0, 0, 0, 0.3));\n",
              "      fill: #FFFFFF;\n",
              "    }\n",
              "  </style>\n",
              "\n",
              "      <script>\n",
              "        const buttonEl =\n",
              "          document.querySelector('#df-066c5c09-aec4-43aa-a356-601b90d872e4 button.colab-df-convert');\n",
              "        buttonEl.style.display =\n",
              "          google.colab.kernel.accessAllowed ? 'block' : 'none';\n",
              "\n",
              "        async function convertToInteractive(key) {\n",
              "          const element = document.querySelector('#df-066c5c09-aec4-43aa-a356-601b90d872e4');\n",
              "          const dataTable =\n",
              "            await google.colab.kernel.invokeFunction('convertToInteractive',\n",
              "                                                     [key], {});\n",
              "          if (!dataTable) return;\n",
              "\n",
              "          const docLinkHtml = 'Like what you see? Visit the ' +\n",
              "            '<a target=\"_blank\" href=https://colab.research.google.com/notebooks/data_table.ipynb>data table notebook</a>'\n",
              "            + ' to learn more about interactive tables.';\n",
              "          element.innerHTML = '';\n",
              "          dataTable['output_type'] = 'display_data';\n",
              "          await google.colab.output.renderOutput(dataTable, element);\n",
              "          const docLink = document.createElement('div');\n",
              "          docLink.innerHTML = docLinkHtml;\n",
              "          element.appendChild(docLink);\n",
              "        }\n",
              "      </script>\n",
              "    </div>\n",
              "  </div>\n",
              "  "
            ]
          },
          "metadata": {},
          "execution_count": 91
        }
      ]
    },
    {
      "cell_type": "code",
      "source": [
        "y.iloc[[2]]"
      ],
      "metadata": {
        "colab": {
          "base_uri": "https://localhost:8080/"
        },
        "id": "KGbgO0uyR_CQ",
        "outputId": "456a88f9-b442-4abd-edb0-e71b67e3c29b"
      },
      "execution_count": null,
      "outputs": [
        {
          "output_type": "execute_result",
          "data": {
            "text/plain": [
              "2    7\n",
              "Name: blueKills, dtype: int64"
            ]
          },
          "metadata": {},
          "execution_count": 92
        }
      ]
    },
    {
      "cell_type": "code",
      "source": [
        "plt.figure(figsize = (16,15))\n",
        "sns.heatmap(lol.corr(), annot=False)"
      ],
      "metadata": {
        "colab": {
          "base_uri": "https://localhost:8080/",
          "height": 756
        },
        "id": "mV3rRmtlSzNW",
        "outputId": "e7e3c98e-2a0a-4a24-8e14-802960b7c32e"
      },
      "execution_count": null,
      "outputs": [
        {
          "output_type": "execute_result",
          "data": {
            "text/plain": [
              "<AxesSubplot:>"
            ]
          },
          "metadata": {},
          "execution_count": 93
        },
        {
          "output_type": "display_data",
          "data": {
            "text/plain": [
              "<Figure size 1152x1080 with 2 Axes>"
            ],
            "image/png": "[encoded data removed]"
          },
          "metadata": {
            "needs_background": "light"
          }
        }
      ]
    },
    {
      "cell_type": "code",
      "source": [
        "sns.pairplot(lol, x_vars=['blueDeaths','blueWardsPlaced', 'blueWardsDestroyed',\n",
        "       'blueTowersDestroyed', 'blueTotalGold', 'blueAssists','blueTotalMinionsKilled'], y_vars='blueKills', height=9, aspect=0.7)"
      ],
      "metadata": {
        "colab": {
          "base_uri": "https://localhost:8080/",
          "height": 162
        },
        "id": "By9GzQsvSKW_",
        "outputId": "1fe840b1-0e38-4210-b8bc-f943de1a9c32"
      },
      "execution_count": 7,
      "outputs": [
        {
          "output_type": "error",
          "ename": "NameError",
          "evalue": "name 'sns' is not defined",
          "traceback": [
            "\u001b[0;31m---------------------------------------------------------------------------\u001b[0m",
            "\u001b[0;31mNameError\u001b[0m                                 Traceback (most recent call last)",
            "\u001b[0;32m<ipython-input-7-7c55ee1b5184>\u001b[0m in \u001b[0;36m<cell line: 0>\u001b[0;34m()\u001b[0m\n\u001b[0;32m----> 1\u001b[0;31m sns.pairplot(lol, x_vars=['blueDeaths','blueWardsPlaced', 'blueWardsDestroyed',\n\u001b[0m\u001b[1;32m      2\u001b[0m        'blueTowersDestroyed', 'blueTotalGold', 'blueAssists','blueTotalMinionsKilled'], y_vars='blueKills', height=9, aspect=0.7)\n",
            "\u001b[0;31mNameError\u001b[0m: name 'sns' is not defined"
          ]
        }
      ]
    },
    {
      "cell_type": "code",
      "source": [
        "df_lol = lol[['blueKills','blueDeaths','blueWardsPlaced', 'blueWardsDestroyed',\n",
        "       'blueTowersDestroyed', 'blueTotalGold', 'blueAssists','blueTotalMinionsKilled']]\n",
        "df_lol.corr()"
      ],
      "metadata": {
        "colab": {
          "base_uri": "https://localhost:8080/",
          "height": 364
        },
        "id": "4Wd8_dId9GM3",
        "outputId": "6729f2f0-28ea-4fd2-fd6f-cdb8401ce507"
      },
      "execution_count": null,
      "outputs": [
        {
          "output_type": "execute_result",
          "data": {
            "text/plain": [
              "                        blueKills  blueDeaths  blueWardsPlaced  \\\n",
              "blueKills                1.000000    0.004044         0.018138   \n",
              "blueDeaths               0.004044    1.000000        -0.002612   \n",
              "blueWardsPlaced          0.018138   -0.002612         1.000000   \n",
              "blueWardsDestroyed       0.033748   -0.073182         0.034447   \n",
              "blueTowersDestroyed      0.180314   -0.071441         0.009462   \n",
              "blueTotalGold            0.888751   -0.162572         0.019725   \n",
              "blueAssists              0.813667   -0.026372         0.033217   \n",
              "blueTotalMinionsKilled  -0.030880   -0.468560        -0.033925   \n",
              "\n",
              "                        blueWardsDestroyed  blueTowersDestroyed  \\\n",
              "blueKills                         0.033748             0.180314   \n",
              "blueDeaths                       -0.073182            -0.071441   \n",
              "blueWardsPlaced                   0.034447             0.009462   \n",
              "blueWardsDestroyed                1.000000            -0.009150   \n",
              "blueTowersDestroyed              -0.009150             1.000000   \n",
              "blueTotalGold                     0.060054             0.350941   \n",
              "blueAssists                       0.067793             0.123663   \n",
              "blueTotalMinionsKilled            0.111028             0.092291   \n",
              "\n",
              "                        blueTotalGold  blueAssists  blueTotalMinionsKilled  \n",
              "blueKills                    0.888751     0.813667               -0.030880  \n",
              "blueDeaths                  -0.162572    -0.026372               -0.468560  \n",
              "blueWardsPlaced              0.019725     0.033217               -0.033925  \n",
              "blueWardsDestroyed           0.060054     0.067793                0.111028  \n",
              "blueTowersDestroyed          0.350941     0.123663                0.092291  \n",
              "blueTotalGold                1.000000     0.748352                0.284902  \n",
              "blueAssists                  0.748352     1.000000               -0.062035  \n",
              "blueTotalMinionsKilled       0.284902    -0.062035                1.000000  "
            ],
            "text/html": [
              "\n",
              "  <div id=\"df-801b4930-3ac4-4b8f-b606-1edb5834cd94\">\n",
              "    <div class=\"colab-df-container\">\n",
              "      <div>\n",
              "<style scoped>\n",
              "    .dataframe tbody tr th:only-of-type {\n",
              "        vertical-align: middle;\n",
              "    }\n",
              "\n",
              "    .dataframe tbody tr th {\n",
              "        vertical-align: top;\n",
              "    }\n",
              "\n",
              "    .dataframe thead th {\n",
              "        text-align: right;\n",
              "    }\n",
              "</style>\n",
              "<table border=\"1\" class=\"dataframe\">\n",
              "  <thead>\n",
              "    <tr style=\"text-align: right;\">\n",
              "      <th></th>\n",
              "      <th>blueKills</th>\n",
              "      <th>blueDeaths</th>\n",
              "      <th>blueWardsPlaced</th>\n",
              "      <th>blueWardsDestroyed</th>\n",
              "      <th>blueTowersDestroyed</th>\n",
              "      <th>blueTotalGold</th>\n",
              "      <th>blueAssists</th>\n",
              "      <th>blueTotalMinionsKilled</th>\n",
              "    </tr>\n",
              "  </thead>\n",
              "  <tbody>\n",
              "    <tr>\n",
              "      <th>blueKills</th>\n",
              "      <td>1.000000</td>\n",
              "      <td>0.004044</td>\n",
              "      <td>0.018138</td>\n",
              "      <td>0.033748</td>\n",
              "      <td>0.180314</td>\n",
              "      <td>0.888751</td>\n",
              "      <td>0.813667</td>\n",
              "      <td>-0.030880</td>\n",
              "    </tr>\n",
              "    <tr>\n",
              "      <th>blueDeaths</th>\n",
              "      <td>0.004044</td>\n",
              "      <td>1.000000</td>\n",
              "      <td>-0.002612</td>\n",
              "      <td>-0.073182</td>\n",
              "      <td>-0.071441</td>\n",
              "      <td>-0.162572</td>\n",
              "      <td>-0.026372</td>\n",
              "      <td>-0.468560</td>\n",
              "    </tr>\n",
              "    <tr>\n",
              "      <th>blueWardsPlaced</th>\n",
              "      <td>0.018138</td>\n",
              "      <td>-0.002612</td>\n",
              "      <td>1.000000</td>\n",
              "      <td>0.034447</td>\n",
              "      <td>0.009462</td>\n",
              "      <td>0.019725</td>\n",
              "      <td>0.033217</td>\n",
              "      <td>-0.033925</td>\n",
              "    </tr>\n",
              "    <tr>\n",
              "      <th>blueWardsDestroyed</th>\n",
              "      <td>0.033748</td>\n",
              "      <td>-0.073182</td>\n",
              "      <td>0.034447</td>\n",
              "      <td>1.000000</td>\n",
              "      <td>-0.009150</td>\n",
              "      <td>0.060054</td>\n",
              "      <td>0.067793</td>\n",
              "      <td>0.111028</td>\n",
              "    </tr>\n",
              "    <tr>\n",
              "      <th>blueTowersDestroyed</th>\n",
              "      <td>0.180314</td>\n",
              "      <td>-0.071441</td>\n",
              "      <td>0.009462</td>\n",
              "      <td>-0.009150</td>\n",
              "      <td>1.000000</td>\n",
              "      <td>0.350941</td>\n",
              "      <td>0.123663</td>\n",
              "      <td>0.092291</td>\n",
              "    </tr>\n",
              "    <tr>\n",
              "      <th>blueTotalGold</th>\n",
              "      <td>0.888751</td>\n",
              "      <td>-0.162572</td>\n",
              "      <td>0.019725</td>\n",
              "      <td>0.060054</td>\n",
              "      <td>0.350941</td>\n",
              "      <td>1.000000</td>\n",
              "      <td>0.748352</td>\n",
              "      <td>0.284902</td>\n",
              "    </tr>\n",
              "    <tr>\n",
              "      <th>blueAssists</th>\n",
              "      <td>0.813667</td>\n",
              "      <td>-0.026372</td>\n",
              "      <td>0.033217</td>\n",
              "      <td>0.067793</td>\n",
              "      <td>0.123663</td>\n",
              "      <td>0.748352</td>\n",
              "      <td>1.000000</td>\n",
              "      <td>-0.062035</td>\n",
              "    </tr>\n",
              "    <tr>\n",
              "      <th>blueTotalMinionsKilled</th>\n",
              "      <td>-0.030880</td>\n",
              "      <td>-0.468560</td>\n",
              "      <td>-0.033925</td>\n",
              "      <td>0.111028</td>\n",
              "      <td>0.092291</td>\n",
              "      <td>0.284902</td>\n",
              "      <td>-0.062035</td>\n",
              "      <td>1.000000</td>\n",
              "    </tr>\n",
              "  </tbody>\n",
              "</table>\n",
              "</div>\n",
              "      <button class=\"colab-df-convert\" onclick=\"convertToInteractive('df-801b4930-3ac4-4b8f-b606-1edb5834cd94')\"\n",
              "              title=\"Convert this dataframe to an interactive table.\"\n",
              "              style=\"display:none;\">\n",
              "        \n",
              "  <svg xmlns=\"http://www.w3.org/2000/svg\" height=\"24px\"viewBox=\"0 0 24 24\"\n",
              "       width=\"24px\">\n",
              "    <path d=\"M0 0h24v24H0V0z\" fill=\"none\"/>\n",
              "    <path d=\"M18.56 5.44l.94 2.06.94-2.06 2.06-.94-2.06-.94-.94-2.06-.94 2.06-2.06.94zm-11 1L8.5 8.5l.94-2.06 2.06-.94-2.06-.94L8.5 2.5l-.94 2.06-2.06.94zm10 10l.94 2.06.94-2.06 2.06-.94-2.06-.94-.94-2.06-.94 2.06-2.06.94z\"/><path d=\"M17.41 7.96l-1.37-1.37c-.4-.4-.92-.59-1.43-.59-.52 0-1.04.2-1.43.59L10.3 9.45l-7.72 7.72c-.78.78-.78 2.05 0 2.83L4 21.41c.39.39.9.59 1.41.59.51 0 1.02-.2 1.41-.59l7.78-7.78 2.81-2.81c.8-.78.8-2.07 0-2.86zM5.41 20L4 18.59l7.72-7.72 1.47 1.35L5.41 20z\"/>\n",
              "  </svg>\n",
              "      </button>\n",
              "      \n",
              "  <style>\n",
              "    .colab-df-container {\n",
              "      display:flex;\n",
              "      flex-wrap:wrap;\n",
              "      gap: 12px;\n",
              "    }\n",
              "\n",
              "    .colab-df-convert {\n",
              "      background-color: #E8F0FE;\n",
              "      border: none;\n",
              "      border-radius: 50%;\n",
              "      cursor: pointer;\n",
              "      display: none;\n",
              "      fill: #1967D2;\n",
              "      height: 32px;\n",
              "      padding: 0 0 0 0;\n",
              "      width: 32px;\n",
              "    }\n",
              "\n",
              "    .colab-df-convert:hover {\n",
              "      background-color: #E2EBFA;\n",
              "      box-shadow: 0px 1px 2px rgba(60, 64, 67, 0.3), 0px 1px 3px 1px rgba(60, 64, 67, 0.15);\n",
              "      fill: #174EA6;\n",
              "    }\n",
              "\n",
              "    [theme=dark] .colab-df-convert {\n",
              "      background-color: #3B4455;\n",
              "      fill: #D2E3FC;\n",
              "    }\n",
              "\n",
              "    [theme=dark] .colab-df-convert:hover {\n",
              "      background-color: #434B5C;\n",
              "      box-shadow: 0px 1px 3px 1px rgba(0, 0, 0, 0.15);\n",
              "      filter: drop-shadow(0px 1px 2px rgba(0, 0, 0, 0.3));\n",
              "      fill: #FFFFFF;\n",
              "    }\n",
              "  </style>\n",
              "\n",
              "      <script>\n",
              "        const buttonEl =\n",
              "          document.querySelector('#df-801b4930-3ac4-4b8f-b606-1edb5834cd94 button.colab-df-convert');\n",
              "        buttonEl.style.display =\n",
              "          google.colab.kernel.accessAllowed ? 'block' : 'none';\n",
              "\n",
              "        async function convertToInteractive(key) {\n",
              "          const element = document.querySelector('#df-801b4930-3ac4-4b8f-b606-1edb5834cd94');\n",
              "          const dataTable =\n",
              "            await google.colab.kernel.invokeFunction('convertToInteractive',\n",
              "                                                     [key], {});\n",
              "          if (!dataTable) return;\n",
              "\n",
              "          const docLinkHtml = 'Like what you see? Visit the ' +\n",
              "            '<a target=\"_blank\" href=https://colab.research.google.com/notebooks/data_table.ipynb>data table notebook</a>'\n",
              "            + ' to learn more about interactive tables.';\n",
              "          element.innerHTML = '';\n",
              "          dataTable['output_type'] = 'display_data';\n",
              "          await google.colab.output.renderOutput(dataTable, element);\n",
              "          const docLink = document.createElement('div');\n",
              "          docLink.innerHTML = docLinkHtml;\n",
              "          element.appendChild(docLink);\n",
              "        }\n",
              "      </script>\n",
              "    </div>\n",
              "  </div>\n",
              "  "
            ]
          },
          "metadata": {},
          "execution_count": 95
        }
      ]
    },
    {
      "cell_type": "code",
      "source": [
        "plt.figure(figsize = (10,10))\n",
        "sns.heatmap(df_lol.corr(), annot=True, cmap=\"crest\")"
      ],
      "metadata": {
        "colab": {
          "base_uri": "https://localhost:8080/",
          "height": 713
        },
        "id": "q4YOYCt_RhM7",
        "outputId": "1622c149-61e3-4b0f-94d4-1a288555bd60"
      },
      "execution_count": null,
      "outputs": [
        {
          "output_type": "execute_result",
          "data": {
            "text/plain": [
              "<AxesSubplot:>"
            ]
          },
          "metadata": {},
          "execution_count": 96
        },
        {
          "output_type": "display_data",
          "data": {
            "text/plain": [
              "<Figure size 720x720 with 2 Axes>"
            ],
            "image/png": "[encoded data removed]"
          },
          "metadata": {
            "needs_background": "light"
          }
        }
      ]
    },
    {
      "cell_type": "markdown",
      "source": [
        "## Линейная регрессия МНК"
      ],
      "metadata": {
        "id": "XQFXdk_SuINb"
      }
    },
    {
      "cell_type": "code",
      "source": [
        "from sklearn.model_selection import train_test_split\n",
        "from sklearn.linear_model import LinearRegression\n",
        "from sklearn import metrics"
      ],
      "metadata": {
        "id": "tWwCz8t-W7f4"
      },
      "execution_count": 9,
      "outputs": []
    },
    {
      "cell_type": "markdown",
      "source": [
        "Допустим имеем набор из $M$ пар исходных данных $(Xi, Yi)$, где\n",
        "\n",
        "$ℝ$ — множество вещественных чисел\n",
        "\n",
        "$ℕ$ — множество натуральных чисел\n",
        "\n",
        "$M Є ℕ$, $i Є ℕ$, $1 ≤ i ≤ M$\n",
        "\n",
        "$X_i Є ℝd, d Є ℕ$, т.е. каждый $X_i$ — это последовательность вещественных чисел длиной $d$\n",
        "$Y_i Є ℝk, k Є ℕ$, т.е. и каждый $Y_i$ — тоже последовательность вещественных чисел, но длиной $k$.\n",
        "\n",
        "$Х$ называют независимой переменной или  факторами, или регрессорами. А $Y$ называют зависимой или объясняемой переменной.\n",
        "\n",
        "В  простом случае $d = k = 1$, то есть нам заданы пары чисел, например, (сила, количество побед).\n",
        "Чаще всего $d > 1$, а $k = 1$, то есть для каждого Y даны несколько Х, например, ((сила, быстрота, ловкость, выносливость), количество побед).\n",
        "$$w =\\begin{pmatrix}\n",
        "  сила, быстрота, ловкость, выносливость\n",
        "\\end{pmatrix} w^{T} = \\begin{pmatrix}\n",
        "  сила\\\\\n",
        " быстрота\\\\\n",
        "  ловкость\\\\\n",
        "  выносливость\n",
        "\\end{pmatrix} $$\n",
        "\n",
        " $Y$ тоже состоит из нескольких значений и тогда пары $(Xi, Yi)$ могут выглядеть, например, вот так — ((сила, быстрота, ловкость, выносливость), (количество побед, количество убитых монстров)).\n",
        "\n",
        "И, как вы уже возможно догадались, мы вдруг делаем неожиданное предположение: наши Y не просто зависят, а линейно зависят от $Х$, то есть $Y = w^TX$, где $w$ — это параметры модели в виде вещественной матрицы размерности $d$ x $k$.\n",
        "\n",
        "Однако, не обязательно чтобы $w^TX$  равнялось именно $Y$. Исходные данные как правило имеют с погрешность. Кроме того, велика вероятность, что не все значимые факторы $X$  на $Y$ были измерены и занесены в набор данных. Поэтому  надо учесть случайную ошибку.\n",
        "Также не обязательно, что $Y$ линейно зависит  от $X$. Ведь возможно они зависят от чего-то другого, что в свою очередь зависит от $Х$. Например возможны более сложные, нелинейные зависимости. $Y$ может быть равен $w*X^2$ или $w*log X$. Посмотрев немного шире, можем предположить, что возможна и обратная ситуация $log Y = w^TX$.\n",
        "\n",
        "Таким образом мы приходим к обобщенной постановке линейной задачи:\n",
        "$$Y^* = w^TX^* + ℇ$$\n",
        "где\n",
        "\n",
        "$X^* = f(X)$,\n",
        "\n",
        "$Y^* = g(Y)$,\n",
        "\n",
        "$ℇ$ — случайная величина.\n",
        "\n",
        "Несмотря на то, что $f$ и g могут быть нелинейными функциями, и $Y$ в результате может весьма нелинейно зависеть от $Х$, модель все равно остается линейной относительно параметров $w$. Именно поэтому она и называется линейной моделью."
      ],
      "metadata": {
        "id": "ZTEeTRQUO0wQ"
      }
    },
    {
      "cell_type": "markdown",
      "source": [
        "Типичными примерами простых функционалов являются:\n",
        "\n",
        "- наименьшие квадраты: $min ∑ (Y_i^* — w^TX_i^*)^2$\n",
        "- взвешенные наименьшие квадраты: $min ∑ Wi (Y_i^* — w^TX_i^*)^2$, так возможно более новым данным придать больший вес, и тем самым понизить значимость данных собранных в прошлом.\n",
        "- обобщенные наименьшие квадраты по расстоянию Махаланобиса: $min ∑ (Y_i^* — w^TX_i^*)^T Ω-1 (Y_i^* — w^TX_i^*)$\n",
        "- функция Хубера, которая интересна тем, что рядом с минимумом она ведет себя квадратичным образом, а в остальных местах линейно.\n",
        "- обратная функция Хубера, которая, наоборот, везде квадратична, а в окрестности минимума линейна.\n",
        "\n",
        "\n",
        "Вариантов используемых функционалов  больше и можно побобрать оптимальный под решаемую задачу и имеющийся набор данных.\n"
      ],
      "metadata": {
        "id": "bEgI9IGtWQBT"
      }
    },
    {
      "cell_type": "code",
      "source": [
        "#разделим данные на обучающие и тестовые данные\n",
        "X_train, X_test, y_train, y_test = train_test_split(X, y, test_size = 0.2, random_state = 0)\n",
        "\n",
        "#обучаем модель\n",
        "regressor = LinearRegression()\n",
        "regressor.fit(X_train, y_train)"
      ],
      "metadata": {
        "colab": {
          "base_uri": "https://localhost:8080/",
          "height": 216
        },
        "id": "tRxcPnMwXBOY",
        "outputId": "a23003d5-98c0-4897-9778-f9a3f7ac4f2e"
      },
      "execution_count": 12,
      "outputs": [
        {
          "output_type": "error",
          "ename": "NameError",
          "evalue": "name 'X' is not defined",
          "traceback": [
            "\u001b[0;31m---------------------------------------------------------------------------\u001b[0m",
            "\u001b[0;31mNameError\u001b[0m                                 Traceback (most recent call last)",
            "\u001b[0;32m<ipython-input-12-134bed281ca1>\u001b[0m in \u001b[0;36m<cell line: 0>\u001b[0;34m()\u001b[0m\n\u001b[1;32m      1\u001b[0m \u001b[0;31m#разделим данные на обучающие и тестовые данные\u001b[0m\u001b[0;34m\u001b[0m\u001b[0;34m\u001b[0m\u001b[0m\n\u001b[0;32m----> 2\u001b[0;31m \u001b[0mX_train\u001b[0m\u001b[0;34m,\u001b[0m \u001b[0mX_test\u001b[0m\u001b[0;34m,\u001b[0m \u001b[0my_train\u001b[0m\u001b[0;34m,\u001b[0m \u001b[0my_test\u001b[0m \u001b[0;34m=\u001b[0m \u001b[0mtrain_test_split\u001b[0m\u001b[0;34m(\u001b[0m\u001b[0mX\u001b[0m\u001b[0;34m,\u001b[0m \u001b[0my\u001b[0m\u001b[0;34m,\u001b[0m \u001b[0mtest_size\u001b[0m \u001b[0;34m=\u001b[0m \u001b[0;36m0.2\u001b[0m\u001b[0;34m,\u001b[0m \u001b[0mrandom_state\u001b[0m \u001b[0;34m=\u001b[0m \u001b[0;36m0\u001b[0m\u001b[0;34m)\u001b[0m\u001b[0;34m\u001b[0m\u001b[0;34m\u001b[0m\u001b[0m\n\u001b[0m\u001b[1;32m      3\u001b[0m \u001b[0;34m\u001b[0m\u001b[0m\n\u001b[1;32m      4\u001b[0m \u001b[0;31m#обучаем модель\u001b[0m\u001b[0;34m\u001b[0m\u001b[0;34m\u001b[0m\u001b[0m\n\u001b[1;32m      5\u001b[0m \u001b[0mregressor\u001b[0m \u001b[0;34m=\u001b[0m \u001b[0mLinearRegression\u001b[0m\u001b[0;34m(\u001b[0m\u001b[0;34m)\u001b[0m\u001b[0;34m\u001b[0m\u001b[0;34m\u001b[0m\u001b[0m\n",
            "\u001b[0;31mNameError\u001b[0m: name 'X' is not defined"
          ]
        }
      ]
    },
    {
      "cell_type": "code",
      "source": [
        "#приведем получившиеся коэфициенты моделей\n",
        "print(regressor.intercept_)\n",
        "print(regressor.coef_)\n",
        "\n",
        "coef_df = pd.DataFrame(regressor.coef_, X.columns, columns=['Coefficient'])\n",
        "coef_df"
      ],
      "metadata": {
        "colab": {
          "base_uri": "https://localhost:8080/",
          "height": 321
        },
        "id": "zprtNymkXJLg",
        "outputId": "f0bb9206-3162-4363-8ffb-98f5b9173625"
      },
      "execution_count": null,
      "outputs": [
        {
          "output_type": "stream",
          "name": "stdout",
          "text": [
            "-16.293767453196153\n",
            "[ 2.72083650e-02 -1.69007541e-03  1.29886680e-03 -1.58584908e+00\n",
            "  1.79945164e-03  9.44885490e-02 -3.64339935e-02]\n"
          ]
        },
        {
          "output_type": "execute_result",
          "data": {
            "text/plain": [
              "                        Coefficient\n",
              "blueDeaths                 0.027208\n",
              "blueWardsPlaced           -0.001690\n",
              "blueWardsDestroyed         0.001299\n",
              "blueTowersDestroyed       -1.585849\n",
              "blueTotalGold              0.001799\n",
              "blueAssists                0.094489\n",
              "blueTotalMinionsKilled    -0.036434"
            ],
            "text/html": [
              "\n",
              "  <div id=\"df-c57c0538-3ad3-40b6-bda6-224b6fb188c0\">\n",
              "    <div class=\"colab-df-container\">\n",
              "      <div>\n",
              "<style scoped>\n",
              "    .dataframe tbody tr th:only-of-type {\n",
              "        vertical-align: middle;\n",
              "    }\n",
              "\n",
              "    .dataframe tbody tr th {\n",
              "        vertical-align: top;\n",
              "    }\n",
              "\n",
              "    .dataframe thead th {\n",
              "        text-align: right;\n",
              "    }\n",
              "</style>\n",
              "<table border=\"1\" class=\"dataframe\">\n",
              "  <thead>\n",
              "    <tr style=\"text-align: right;\">\n",
              "      <th></th>\n",
              "      <th>Coefficient</th>\n",
              "    </tr>\n",
              "  </thead>\n",
              "  <tbody>\n",
              "    <tr>\n",
              "      <th>blueDeaths</th>\n",
              "      <td>0.027208</td>\n",
              "    </tr>\n",
              "    <tr>\n",
              "      <th>blueWardsPlaced</th>\n",
              "      <td>-0.001690</td>\n",
              "    </tr>\n",
              "    <tr>\n",
              "      <th>blueWardsDestroyed</th>\n",
              "      <td>0.001299</td>\n",
              "    </tr>\n",
              "    <tr>\n",
              "      <th>blueTowersDestroyed</th>\n",
              "      <td>-1.585849</td>\n",
              "    </tr>\n",
              "    <tr>\n",
              "      <th>blueTotalGold</th>\n",
              "      <td>0.001799</td>\n",
              "    </tr>\n",
              "    <tr>\n",
              "      <th>blueAssists</th>\n",
              "      <td>0.094489</td>\n",
              "    </tr>\n",
              "    <tr>\n",
              "      <th>blueTotalMinionsKilled</th>\n",
              "      <td>-0.036434</td>\n",
              "    </tr>\n",
              "  </tbody>\n",
              "</table>\n",
              "</div>\n",
              "      <button class=\"colab-df-convert\" onclick=\"convertToInteractive('df-c57c0538-3ad3-40b6-bda6-224b6fb188c0')\"\n",
              "              title=\"Convert this dataframe to an interactive table.\"\n",
              "              style=\"display:none;\">\n",
              "        \n",
              "  <svg xmlns=\"http://www.w3.org/2000/svg\" height=\"24px\"viewBox=\"0 0 24 24\"\n",
              "       width=\"24px\">\n",
              "    <path d=\"M0 0h24v24H0V0z\" fill=\"none\"/>\n",
              "    <path d=\"M18.56 5.44l.94 2.06.94-2.06 2.06-.94-2.06-.94-.94-2.06-.94 2.06-2.06.94zm-11 1L8.5 8.5l.94-2.06 2.06-.94-2.06-.94L8.5 2.5l-.94 2.06-2.06.94zm10 10l.94 2.06.94-2.06 2.06-.94-2.06-.94-.94-2.06-.94 2.06-2.06.94z\"/><path d=\"M17.41 7.96l-1.37-1.37c-.4-.4-.92-.59-1.43-.59-.52 0-1.04.2-1.43.59L10.3 9.45l-7.72 7.72c-.78.78-.78 2.05 0 2.83L4 21.41c.39.39.9.59 1.41.59.51 0 1.02-.2 1.41-.59l7.78-7.78 2.81-2.81c.8-.78.8-2.07 0-2.86zM5.41 20L4 18.59l7.72-7.72 1.47 1.35L5.41 20z\"/>\n",
              "  </svg>\n",
              "      </button>\n",
              "      \n",
              "  <style>\n",
              "    .colab-df-container {\n",
              "      display:flex;\n",
              "      flex-wrap:wrap;\n",
              "      gap: 12px;\n",
              "    }\n",
              "\n",
              "    .colab-df-convert {\n",
              "      background-color: #E8F0FE;\n",
              "      border: none;\n",
              "      border-radius: 50%;\n",
              "      cursor: pointer;\n",
              "      display: none;\n",
              "      fill: #1967D2;\n",
              "      height: 32px;\n",
              "      padding: 0 0 0 0;\n",
              "      width: 32px;\n",
              "    }\n",
              "\n",
              "    .colab-df-convert:hover {\n",
              "      background-color: #E2EBFA;\n",
              "      box-shadow: 0px 1px 2px rgba(60, 64, 67, 0.3), 0px 1px 3px 1px rgba(60, 64, 67, 0.15);\n",
              "      fill: #174EA6;\n",
              "    }\n",
              "\n",
              "    [theme=dark] .colab-df-convert {\n",
              "      background-color: #3B4455;\n",
              "      fill: #D2E3FC;\n",
              "    }\n",
              "\n",
              "    [theme=dark] .colab-df-convert:hover {\n",
              "      background-color: #434B5C;\n",
              "      box-shadow: 0px 1px 3px 1px rgba(0, 0, 0, 0.15);\n",
              "      filter: drop-shadow(0px 1px 2px rgba(0, 0, 0, 0.3));\n",
              "      fill: #FFFFFF;\n",
              "    }\n",
              "  </style>\n",
              "\n",
              "      <script>\n",
              "        const buttonEl =\n",
              "          document.querySelector('#df-c57c0538-3ad3-40b6-bda6-224b6fb188c0 button.colab-df-convert');\n",
              "        buttonEl.style.display =\n",
              "          google.colab.kernel.accessAllowed ? 'block' : 'none';\n",
              "\n",
              "        async function convertToInteractive(key) {\n",
              "          const element = document.querySelector('#df-c57c0538-3ad3-40b6-bda6-224b6fb188c0');\n",
              "          const dataTable =\n",
              "            await google.colab.kernel.invokeFunction('convertToInteractive',\n",
              "                                                     [key], {});\n",
              "          if (!dataTable) return;\n",
              "\n",
              "          const docLinkHtml = 'Like what you see? Visit the ' +\n",
              "            '<a target=\"_blank\" href=https://colab.research.google.com/notebooks/data_table.ipynb>data table notebook</a>'\n",
              "            + ' to learn more about interactive tables.';\n",
              "          element.innerHTML = '';\n",
              "          dataTable['output_type'] = 'display_data';\n",
              "          await google.colab.output.renderOutput(dataTable, element);\n",
              "          const docLink = document.createElement('div');\n",
              "          docLink.innerHTML = docLinkHtml;\n",
              "          element.appendChild(docLink);\n",
              "        }\n",
              "      </script>\n",
              "    </div>\n",
              "  </div>\n",
              "  "
            ]
          },
          "metadata": {},
          "execution_count": 99
        }
      ]
    },
    {
      "cell_type": "code",
      "source": [
        "#Построим прогнозы\n",
        "#Для этого используем наши тестовые данные и посмотрим насколько точно наш алгоритм предсказывает процентную оценку\n",
        "y_pred = regressor.predict(X_test)\n",
        "#сравним фактические значения с предсказанными\n",
        "df = pd.DataFrame({'Actual': y_test, 'Predicted': y_pred})\n",
        "df"
      ],
      "metadata": {
        "colab": {
          "base_uri": "https://localhost:8080/",
          "height": 424
        },
        "id": "jo6TUCtyXcCX",
        "outputId": "f4e0fe9f-e34c-452e-ba45-8161423ca113"
      },
      "execution_count": null,
      "outputs": [
        {
          "output_type": "execute_result",
          "data": {
            "text/plain": [
              "      Actual  Predicted\n",
              "3535       5   4.324808\n",
              "7150       7   5.644291\n",
              "9578       6   6.141153\n",
              "6882       3   2.269931\n",
              "3766       5   4.979288\n",
              "...      ...        ...\n",
              "4513       6   4.672379\n",
              "3761       7   7.277432\n",
              "5632       5   3.652158\n",
              "4311      15  14.737563\n",
              "1112       7   6.552207\n",
              "\n",
              "[1976 rows x 2 columns]"
            ],
            "text/html": [
              "\n",
              "  <div id=\"df-674b9709-1e71-47f9-878e-814ef3e85207\">\n",
              "    <div class=\"colab-df-container\">\n",
              "      <div>\n",
              "<style scoped>\n",
              "    .dataframe tbody tr th:only-of-type {\n",
              "        vertical-align: middle;\n",
              "    }\n",
              "\n",
              "    .dataframe tbody tr th {\n",
              "        vertical-align: top;\n",
              "    }\n",
              "\n",
              "    .dataframe thead th {\n",
              "        text-align: right;\n",
              "    }\n",
              "</style>\n",
              "<table border=\"1\" class=\"dataframe\">\n",
              "  <thead>\n",
              "    <tr style=\"text-align: right;\">\n",
              "      <th></th>\n",
              "      <th>Actual</th>\n",
              "      <th>Predicted</th>\n",
              "    </tr>\n",
              "  </thead>\n",
              "  <tbody>\n",
              "    <tr>\n",
              "      <th>3535</th>\n",
              "      <td>5</td>\n",
              "      <td>4.324808</td>\n",
              "    </tr>\n",
              "    <tr>\n",
              "      <th>7150</th>\n",
              "      <td>7</td>\n",
              "      <td>5.644291</td>\n",
              "    </tr>\n",
              "    <tr>\n",
              "      <th>9578</th>\n",
              "      <td>6</td>\n",
              "      <td>6.141153</td>\n",
              "    </tr>\n",
              "    <tr>\n",
              "      <th>6882</th>\n",
              "      <td>3</td>\n",
              "      <td>2.269931</td>\n",
              "    </tr>\n",
              "    <tr>\n",
              "      <th>3766</th>\n",
              "      <td>5</td>\n",
              "      <td>4.979288</td>\n",
              "    </tr>\n",
              "    <tr>\n",
              "      <th>...</th>\n",
              "      <td>...</td>\n",
              "      <td>...</td>\n",
              "    </tr>\n",
              "    <tr>\n",
              "      <th>4513</th>\n",
              "      <td>6</td>\n",
              "      <td>4.672379</td>\n",
              "    </tr>\n",
              "    <tr>\n",
              "      <th>3761</th>\n",
              "      <td>7</td>\n",
              "      <td>7.277432</td>\n",
              "    </tr>\n",
              "    <tr>\n",
              "      <th>5632</th>\n",
              "      <td>5</td>\n",
              "      <td>3.652158</td>\n",
              "    </tr>\n",
              "    <tr>\n",
              "      <th>4311</th>\n",
              "      <td>15</td>\n",
              "      <td>14.737563</td>\n",
              "    </tr>\n",
              "    <tr>\n",
              "      <th>1112</th>\n",
              "      <td>7</td>\n",
              "      <td>6.552207</td>\n",
              "    </tr>\n",
              "  </tbody>\n",
              "</table>\n",
              "<p>1976 rows × 2 columns</p>\n",
              "</div>\n",
              "      <button class=\"colab-df-convert\" onclick=\"convertToInteractive('df-674b9709-1e71-47f9-878e-814ef3e85207')\"\n",
              "              title=\"Convert this dataframe to an interactive table.\"\n",
              "              style=\"display:none;\">\n",
              "        \n",
              "  <svg xmlns=\"http://www.w3.org/2000/svg\" height=\"24px\"viewBox=\"0 0 24 24\"\n",
              "       width=\"24px\">\n",
              "    <path d=\"M0 0h24v24H0V0z\" fill=\"none\"/>\n",
              "    <path d=\"M18.56 5.44l.94 2.06.94-2.06 2.06-.94-2.06-.94-.94-2.06-.94 2.06-2.06.94zm-11 1L8.5 8.5l.94-2.06 2.06-.94-2.06-.94L8.5 2.5l-.94 2.06-2.06.94zm10 10l.94 2.06.94-2.06 2.06-.94-2.06-.94-.94-2.06-.94 2.06-2.06.94z\"/><path d=\"M17.41 7.96l-1.37-1.37c-.4-.4-.92-.59-1.43-.59-.52 0-1.04.2-1.43.59L10.3 9.45l-7.72 7.72c-.78.78-.78 2.05 0 2.83L4 21.41c.39.39.9.59 1.41.59.51 0 1.02-.2 1.41-.59l7.78-7.78 2.81-2.81c.8-.78.8-2.07 0-2.86zM5.41 20L4 18.59l7.72-7.72 1.47 1.35L5.41 20z\"/>\n",
              "  </svg>\n",
              "      </button>\n",
              "      \n",
              "  <style>\n",
              "    .colab-df-container {\n",
              "      display:flex;\n",
              "      flex-wrap:wrap;\n",
              "      gap: 12px;\n",
              "    }\n",
              "\n",
              "    .colab-df-convert {\n",
              "      background-color: #E8F0FE;\n",
              "      border: none;\n",
              "      border-radius: 50%;\n",
              "      cursor: pointer;\n",
              "      display: none;\n",
              "      fill: #1967D2;\n",
              "      height: 32px;\n",
              "      padding: 0 0 0 0;\n",
              "      width: 32px;\n",
              "    }\n",
              "\n",
              "    .colab-df-convert:hover {\n",
              "      background-color: #E2EBFA;\n",
              "      box-shadow: 0px 1px 2px rgba(60, 64, 67, 0.3), 0px 1px 3px 1px rgba(60, 64, 67, 0.15);\n",
              "      fill: #174EA6;\n",
              "    }\n",
              "\n",
              "    [theme=dark] .colab-df-convert {\n",
              "      background-color: #3B4455;\n",
              "      fill: #D2E3FC;\n",
              "    }\n",
              "\n",
              "    [theme=dark] .colab-df-convert:hover {\n",
              "      background-color: #434B5C;\n",
              "      box-shadow: 0px 1px 3px 1px rgba(0, 0, 0, 0.15);\n",
              "      filter: drop-shadow(0px 1px 2px rgba(0, 0, 0, 0.3));\n",
              "      fill: #FFFFFF;\n",
              "    }\n",
              "  </style>\n",
              "\n",
              "      <script>\n",
              "        const buttonEl =\n",
              "          document.querySelector('#df-674b9709-1e71-47f9-878e-814ef3e85207 button.colab-df-convert');\n",
              "        buttonEl.style.display =\n",
              "          google.colab.kernel.accessAllowed ? 'block' : 'none';\n",
              "\n",
              "        async function convertToInteractive(key) {\n",
              "          const element = document.querySelector('#df-674b9709-1e71-47f9-878e-814ef3e85207');\n",
              "          const dataTable =\n",
              "            await google.colab.kernel.invokeFunction('convertToInteractive',\n",
              "                                                     [key], {});\n",
              "          if (!dataTable) return;\n",
              "\n",
              "          const docLinkHtml = 'Like what you see? Visit the ' +\n",
              "            '<a target=\"_blank\" href=https://colab.research.google.com/notebooks/data_table.ipynb>data table notebook</a>'\n",
              "            + ' to learn more about interactive tables.';\n",
              "          element.innerHTML = '';\n",
              "          dataTable['output_type'] = 'display_data';\n",
              "          await google.colab.output.renderOutput(dataTable, element);\n",
              "          const docLink = document.createElement('div');\n",
              "          docLink.innerHTML = docLinkHtml;\n",
              "          element.appendChild(docLink);\n",
              "        }\n",
              "      </script>\n",
              "    </div>\n",
              "  </div>\n",
              "  "
            ]
          },
          "metadata": {},
          "execution_count": 100
        }
      ]
    },
    {
      "cell_type": "markdown",
      "source": [
        "Следует помнить, что метод наименьших квадратов максимально хорошо будет работать с нормально распределёнными данными и возможны достаточно большие  ошибки в противном случае."
      ],
      "metadata": {
        "id": "8P1WYU90Y9pi"
      }
    },
    {
      "cell_type": "code",
      "source": [
        "rmse = mean_squared_error(y_test, y_pred,squared=False)\n",
        "r2 = r2_score(y_test, y_pred)\n",
        "print('RMSE:', rmse)\n",
        "print(\"MAE: \", mean_absolute_error(y_test, y_pred))\n",
        "print('R2:', r2)\n"
      ],
      "metadata": {
        "colab": {
          "base_uri": "https://localhost:8080/"
        },
        "id": "Q1sil3EdXb_P",
        "outputId": "44062930-c348-4cf1-f2f7-afdc8dc556a6"
      },
      "execution_count": null,
      "outputs": [
        {
          "output_type": "stream",
          "name": "stdout",
          "text": [
            "RMSE: 0.9337893325655982\n",
            "MAE:  0.7223770647187471\n",
            "R2: 0.9026037966873048\n"
          ]
        }
      ]
    },
    {
      "cell_type": "markdown",
      "source": [
        "Одной из проблем, которая часто возникает на практике с  линейной регрессией, является мультиколлинеарность , когда две или более переменных-предикторов сильно коррелируют друг с другом, так что они не предоставляют уникальную или независимую информацию в регрессионной модели.\n",
        "\n",
        "Это может привести к тому, что оценки коэффициентов модели будут ненадежными и будут иметь высокую дисперсию. То есть, когда модель применяется к новому набору данных, которого она раньше не видела, она, скорее всего, будет работать плохо."
      ],
      "metadata": {
        "id": "ZUeS8sXPorHg"
      }
    },
    {
      "cell_type": "markdown",
      "source": [
        "# Регуляризация"
      ],
      "metadata": {
        "id": "_prVrvUjzMXB"
      }
    },
    {
      "cell_type": "markdown",
      "source": [
        "Регуляризация  обычно представлена в виде дополнительного регуляризационного слагаемого.\n",
        "Регуляризация предназначена для регулирования сложности модели и ее целью является упрощение модели. Это, в частности, помогает бороться с переобучением и позволяет увеличить обобщающую способность модели.\n",
        "\n",
        "Типичные примеры регуляризационных функций:\n",
        "1. $$L1 = ∑ |w|$$\n",
        "Известная как LASSO-регуляризация (Least Absolute Shrinkage and Selection Operator), и, как несложно догадаться из названия, она позволяет снижать размерность коэффициентов, обращая некоторые из них в нули. И это весьма удобно, когда исходные данные сильно коррелированы.\n",
        "\n",
        "2. $$L2 = ∑ |w|^2$$\n",
        "Иногда ее называют ridge-регуляризацией, и она позволяет минимизировать значения коэффициентов модели, а заодно сделать ее робастной к незначительным изменениям исходных данных. А еще она хорошо дифференцируется, а значит модель можно рассчитать аналитически.\n",
        "\n",
        "3. $$LEN = α L1 + (1 — α) L2$$\n",
        "Совмещая LASSO и ridge, получаем ElasticNet, которая объединяет два мира со всеми их плюсами и минусами.\n",
        "\n",
        "4. $$LN = ∑ E [A(w, Ž)] — A(w,X)$$ где А — log partition функция\n",
        "Введя новую переменную вида $Ž = X + ℥$, где $℥$ — случайная величина, мы фактически добавляем в исходные данные случайный шум, что очевидным образом помогает бороться с переобучением.\n",
        "Для самой простой линейной регрессии введение аддитивного шума идентично L2-регуляризации, но для других моделей аддитивный шум может давать очень интересный результат. Например, в логистической регресии он по сути штрафует за предсказания близкие к 1/2 (проще говоря, поощряет категоричность предсказаний и наказывает за неопределенность).\n",
        "\n",
        "5. Dropout\n",
        "Еще один хитрый подход, активно применяемый в нейронных сетях. Введем новую переменную вида $Ž = X * ℥$, где $℥$ — вектор Бернуллевских случайных величин длиной d. Проще говоря, мы случайным образом выбираем некоторое подмножество факторов Х и строим модель по ним, а потом выбираем такую модель, которая меньше всех зависит от этой случайности.\n",
        "Для самой простой линейной регрессии dropout снова аналогичен L2-регуляризации. А вот, например, в логистической регрессии он позволяет учитывает влияние редких, но весьма характерных факторов (проще говоря, для некоторых очень маленьких Xij он будет подбирать большие коэффициенты bj, тем самым повышая их влияние на результат.\n",
        "\n",
        "Этим, конечно, доступные виды регуляризации не ограничиваются. Хотя для линейных моделей редко требуется что-то большее."
      ],
      "metadata": {
        "id": "vs7YUsfXzWMQ"
      }
    },
    {
      "cell_type": "markdown",
      "source": [
        "## Lasso regression"
      ],
      "metadata": {
        "id": "x2sw9w7wlyjO"
      }
    },
    {
      "cell_type": "markdown",
      "source": [
        "Lasso regression — это метод, который оценивает разреженные коэффициенты. Это полезно в некоторых контекстах из-за его тенденции отдавать предпочтение решениям с меньшим количеством ненулевых коэффициентов, эффективно уменьшая количество функций, от которых зависит данное решение.\n",
        "$$\\min_{w} { \\frac{1}{2n_{\\text{samples}}} ||X w - y||_2 ^ 2 + \\alpha ||w||_1}$$"
      ],
      "metadata": {
        "id": "czuE_KSKfyR7"
      }
    },
    {
      "cell_type": "code",
      "source": [
        "from sklearn.linear_model import Lasso, Ridge\n",
        "\n",
        "#  модель с L1-регуляризацией\n",
        "x_lasso = Lasso(alpha=0.1).fit(X_train, y_train)\n",
        "pd.DataFrame(x_lasso.coef_, X.columns, columns=['Coefficient'])"
      ],
      "metadata": {
        "colab": {
          "base_uri": "https://localhost:8080/",
          "height": 269
        },
        "id": "Oaq2R7p2XxiP",
        "outputId": "cdee5a9f-7c42-4166-9fd3-adb8746ecf57"
      },
      "execution_count": null,
      "outputs": [
        {
          "output_type": "execute_result",
          "data": {
            "text/plain": [
              "                        Coefficient\n",
              "blueDeaths                 0.018391\n",
              "blueWardsPlaced           -0.001336\n",
              "blueWardsDestroyed         0.000000\n",
              "blueTowersDestroyed       -0.000000\n",
              "blueTotalGold              0.001663\n",
              "blueAssists                0.115362\n",
              "blueTotalMinionsKilled    -0.035327"
            ],
            "text/html": [
              "\n",
              "  <div id=\"df-b45ea502-a183-46e1-8f53-891cd7994173\">\n",
              "    <div class=\"colab-df-container\">\n",
              "      <div>\n",
              "<style scoped>\n",
              "    .dataframe tbody tr th:only-of-type {\n",
              "        vertical-align: middle;\n",
              "    }\n",
              "\n",
              "    .dataframe tbody tr th {\n",
              "        vertical-align: top;\n",
              "    }\n",
              "\n",
              "    .dataframe thead th {\n",
              "        text-align: right;\n",
              "    }\n",
              "</style>\n",
              "<table border=\"1\" class=\"dataframe\">\n",
              "  <thead>\n",
              "    <tr style=\"text-align: right;\">\n",
              "      <th></th>\n",
              "      <th>Coefficient</th>\n",
              "    </tr>\n",
              "  </thead>\n",
              "  <tbody>\n",
              "    <tr>\n",
              "      <th>blueDeaths</th>\n",
              "      <td>0.018391</td>\n",
              "    </tr>\n",
              "    <tr>\n",
              "      <th>blueWardsPlaced</th>\n",
              "      <td>-0.001336</td>\n",
              "    </tr>\n",
              "    <tr>\n",
              "      <th>blueWardsDestroyed</th>\n",
              "      <td>0.000000</td>\n",
              "    </tr>\n",
              "    <tr>\n",
              "      <th>blueTowersDestroyed</th>\n",
              "      <td>-0.000000</td>\n",
              "    </tr>\n",
              "    <tr>\n",
              "      <th>blueTotalGold</th>\n",
              "      <td>0.001663</td>\n",
              "    </tr>\n",
              "    <tr>\n",
              "      <th>blueAssists</th>\n",
              "      <td>0.115362</td>\n",
              "    </tr>\n",
              "    <tr>\n",
              "      <th>blueTotalMinionsKilled</th>\n",
              "      <td>-0.035327</td>\n",
              "    </tr>\n",
              "  </tbody>\n",
              "</table>\n",
              "</div>\n",
              "      <button class=\"colab-df-convert\" onclick=\"convertToInteractive('df-b45ea502-a183-46e1-8f53-891cd7994173')\"\n",
              "              title=\"Convert this dataframe to an interactive table.\"\n",
              "              style=\"display:none;\">\n",
              "        \n",
              "  <svg xmlns=\"http://www.w3.org/2000/svg\" height=\"24px\"viewBox=\"0 0 24 24\"\n",
              "       width=\"24px\">\n",
              "    <path d=\"M0 0h24v24H0V0z\" fill=\"none\"/>\n",
              "    <path d=\"M18.56 5.44l.94 2.06.94-2.06 2.06-.94-2.06-.94-.94-2.06-.94 2.06-2.06.94zm-11 1L8.5 8.5l.94-2.06 2.06-.94-2.06-.94L8.5 2.5l-.94 2.06-2.06.94zm10 10l.94 2.06.94-2.06 2.06-.94-2.06-.94-.94-2.06-.94 2.06-2.06.94z\"/><path d=\"M17.41 7.96l-1.37-1.37c-.4-.4-.92-.59-1.43-.59-.52 0-1.04.2-1.43.59L10.3 9.45l-7.72 7.72c-.78.78-.78 2.05 0 2.83L4 21.41c.39.39.9.59 1.41.59.51 0 1.02-.2 1.41-.59l7.78-7.78 2.81-2.81c.8-.78.8-2.07 0-2.86zM5.41 20L4 18.59l7.72-7.72 1.47 1.35L5.41 20z\"/>\n",
              "  </svg>\n",
              "      </button>\n",
              "      \n",
              "  <style>\n",
              "    .colab-df-container {\n",
              "      display:flex;\n",
              "      flex-wrap:wrap;\n",
              "      gap: 12px;\n",
              "    }\n",
              "\n",
              "    .colab-df-convert {\n",
              "      background-color: #E8F0FE;\n",
              "      border: none;\n",
              "      border-radius: 50%;\n",
              "      cursor: pointer;\n",
              "      display: none;\n",
              "      fill: #1967D2;\n",
              "      height: 32px;\n",
              "      padding: 0 0 0 0;\n",
              "      width: 32px;\n",
              "    }\n",
              "\n",
              "    .colab-df-convert:hover {\n",
              "      background-color: #E2EBFA;\n",
              "      box-shadow: 0px 1px 2px rgba(60, 64, 67, 0.3), 0px 1px 3px 1px rgba(60, 64, 67, 0.15);\n",
              "      fill: #174EA6;\n",
              "    }\n",
              "\n",
              "    [theme=dark] .colab-df-convert {\n",
              "      background-color: #3B4455;\n",
              "      fill: #D2E3FC;\n",
              "    }\n",
              "\n",
              "    [theme=dark] .colab-df-convert:hover {\n",
              "      background-color: #434B5C;\n",
              "      box-shadow: 0px 1px 3px 1px rgba(0, 0, 0, 0.15);\n",
              "      filter: drop-shadow(0px 1px 2px rgba(0, 0, 0, 0.3));\n",
              "      fill: #FFFFFF;\n",
              "    }\n",
              "  </style>\n",
              "\n",
              "      <script>\n",
              "        const buttonEl =\n",
              "          document.querySelector('#df-b45ea502-a183-46e1-8f53-891cd7994173 button.colab-df-convert');\n",
              "        buttonEl.style.display =\n",
              "          google.colab.kernel.accessAllowed ? 'block' : 'none';\n",
              "\n",
              "        async function convertToInteractive(key) {\n",
              "          const element = document.querySelector('#df-b45ea502-a183-46e1-8f53-891cd7994173');\n",
              "          const dataTable =\n",
              "            await google.colab.kernel.invokeFunction('convertToInteractive',\n",
              "                                                     [key], {});\n",
              "          if (!dataTable) return;\n",
              "\n",
              "          const docLinkHtml = 'Like what you see? Visit the ' +\n",
              "            '<a target=\"_blank\" href=https://colab.research.google.com/notebooks/data_table.ipynb>data table notebook</a>'\n",
              "            + ' to learn more about interactive tables.';\n",
              "          element.innerHTML = '';\n",
              "          dataTable['output_type'] = 'display_data';\n",
              "          await google.colab.output.renderOutput(dataTable, element);\n",
              "          const docLink = document.createElement('div');\n",
              "          docLink.innerHTML = docLinkHtml;\n",
              "          element.appendChild(docLink);\n",
              "        }\n",
              "      </script>\n",
              "    </div>\n",
              "  </div>\n",
              "  "
            ]
          },
          "metadata": {},
          "execution_count": 118
        }
      ]
    },
    {
      "cell_type": "code",
      "source": [
        "y_pred = x_lasso.predict(X_test)\n",
        "rmse = mean_squared_error(y_test, y_pred,squared=False)\n",
        "r2 = r2_score(y_test, y_pred)\n",
        "print('RMSE:', rmse)\n",
        "print(\"MAE: \", mean_absolute_error(y_test, y_pred))\n",
        "print('R2:', r2)"
      ],
      "metadata": {
        "colab": {
          "base_uri": "https://localhost:8080/"
        },
        "id": "SeJAsIbRcs8m",
        "outputId": "104bbd88-b0d0-4ab7-9bde-4474b370a6df"
      },
      "execution_count": null,
      "outputs": [
        {
          "output_type": "stream",
          "name": "stdout",
          "text": [
            "RMSE: 1.0135818668481062\n",
            "MAE:  0.7723202329595177\n",
            "R2: 0.8852475740445266\n"
          ]
        }
      ]
    },
    {
      "cell_type": "markdown",
      "source": [
        "## Ridge regression"
      ],
      "metadata": {
        "id": "Y43s5I-zesZk"
      }
    },
    {
      "cell_type": "markdown",
      "source": [
        "Ridge regression метод настройки модели, который используется для анализа  данных, страдающих от мультиколлинеарности. Оценка смещена и имеет более низкую дисперсию, чем оценка МНК. Этот метод выполняет регуляризацию L2 и решает некоторые проблемы  методов наименьших квадратов, налагая следующий штраф на размер коэффициентов:\n",
        "\n",
        "$$\\min_{w} || X w - y||_2^2 + \\alpha ||w||_2^2$$"
      ],
      "metadata": {
        "id": "YAk9sm2Geb90"
      }
    },
    {
      "cell_type": "code",
      "source": [
        "# модель с L2-регуляризацией\n",
        "x_ridge = Ridge().fit(X_train, y_train)\n",
        "pd.DataFrame(x_ridge.coef_, X.columns, columns=['Coefficient'])"
      ],
      "metadata": {
        "colab": {
          "base_uri": "https://localhost:8080/",
          "height": 269
        },
        "id": "wjH013Iqb0pe",
        "outputId": "d7ec5f61-756f-474c-e9c2-084e38c9d3c5"
      },
      "execution_count": null,
      "outputs": [
        {
          "output_type": "execute_result",
          "data": {
            "text/plain": [
              "                        Coefficient\n",
              "blueDeaths                 0.027224\n",
              "blueWardsPlaced           -0.001690\n",
              "blueWardsDestroyed         0.001302\n",
              "blueTowersDestroyed       -1.581747\n",
              "blueTotalGold              0.001799\n",
              "blueAssists                0.094584\n",
              "blueTotalMinionsKilled    -0.036427"
            ],
            "text/html": [
              "\n",
              "  <div id=\"df-34033b1a-432d-43ca-a38d-07c74b367198\">\n",
              "    <div class=\"colab-df-container\">\n",
              "      <div>\n",
              "<style scoped>\n",
              "    .dataframe tbody tr th:only-of-type {\n",
              "        vertical-align: middle;\n",
              "    }\n",
              "\n",
              "    .dataframe tbody tr th {\n",
              "        vertical-align: top;\n",
              "    }\n",
              "\n",
              "    .dataframe thead th {\n",
              "        text-align: right;\n",
              "    }\n",
              "</style>\n",
              "<table border=\"1\" class=\"dataframe\">\n",
              "  <thead>\n",
              "    <tr style=\"text-align: right;\">\n",
              "      <th></th>\n",
              "      <th>Coefficient</th>\n",
              "    </tr>\n",
              "  </thead>\n",
              "  <tbody>\n",
              "    <tr>\n",
              "      <th>blueDeaths</th>\n",
              "      <td>0.027224</td>\n",
              "    </tr>\n",
              "    <tr>\n",
              "      <th>blueWardsPlaced</th>\n",
              "      <td>-0.001690</td>\n",
              "    </tr>\n",
              "    <tr>\n",
              "      <th>blueWardsDestroyed</th>\n",
              "      <td>0.001302</td>\n",
              "    </tr>\n",
              "    <tr>\n",
              "      <th>blueTowersDestroyed</th>\n",
              "      <td>-1.581747</td>\n",
              "    </tr>\n",
              "    <tr>\n",
              "      <th>blueTotalGold</th>\n",
              "      <td>0.001799</td>\n",
              "    </tr>\n",
              "    <tr>\n",
              "      <th>blueAssists</th>\n",
              "      <td>0.094584</td>\n",
              "    </tr>\n",
              "    <tr>\n",
              "      <th>blueTotalMinionsKilled</th>\n",
              "      <td>-0.036427</td>\n",
              "    </tr>\n",
              "  </tbody>\n",
              "</table>\n",
              "</div>\n",
              "      <button class=\"colab-df-convert\" onclick=\"convertToInteractive('df-34033b1a-432d-43ca-a38d-07c74b367198')\"\n",
              "              title=\"Convert this dataframe to an interactive table.\"\n",
              "              style=\"display:none;\">\n",
              "        \n",
              "  <svg xmlns=\"http://www.w3.org/2000/svg\" height=\"24px\"viewBox=\"0 0 24 24\"\n",
              "       width=\"24px\">\n",
              "    <path d=\"M0 0h24v24H0V0z\" fill=\"none\"/>\n",
              "    <path d=\"M18.56 5.44l.94 2.06.94-2.06 2.06-.94-2.06-.94-.94-2.06-.94 2.06-2.06.94zm-11 1L8.5 8.5l.94-2.06 2.06-.94-2.06-.94L8.5 2.5l-.94 2.06-2.06.94zm10 10l.94 2.06.94-2.06 2.06-.94-2.06-.94-.94-2.06-.94 2.06-2.06.94z\"/><path d=\"M17.41 7.96l-1.37-1.37c-.4-.4-.92-.59-1.43-.59-.52 0-1.04.2-1.43.59L10.3 9.45l-7.72 7.72c-.78.78-.78 2.05 0 2.83L4 21.41c.39.39.9.59 1.41.59.51 0 1.02-.2 1.41-.59l7.78-7.78 2.81-2.81c.8-.78.8-2.07 0-2.86zM5.41 20L4 18.59l7.72-7.72 1.47 1.35L5.41 20z\"/>\n",
              "  </svg>\n",
              "      </button>\n",
              "      \n",
              "  <style>\n",
              "    .colab-df-container {\n",
              "      display:flex;\n",
              "      flex-wrap:wrap;\n",
              "      gap: 12px;\n",
              "    }\n",
              "\n",
              "    .colab-df-convert {\n",
              "      background-color: #E8F0FE;\n",
              "      border: none;\n",
              "      border-radius: 50%;\n",
              "      cursor: pointer;\n",
              "      display: none;\n",
              "      fill: #1967D2;\n",
              "      height: 32px;\n",
              "      padding: 0 0 0 0;\n",
              "      width: 32px;\n",
              "    }\n",
              "\n",
              "    .colab-df-convert:hover {\n",
              "      background-color: #E2EBFA;\n",
              "      box-shadow: 0px 1px 2px rgba(60, 64, 67, 0.3), 0px 1px 3px 1px rgba(60, 64, 67, 0.15);\n",
              "      fill: #174EA6;\n",
              "    }\n",
              "\n",
              "    [theme=dark] .colab-df-convert {\n",
              "      background-color: #3B4455;\n",
              "      fill: #D2E3FC;\n",
              "    }\n",
              "\n",
              "    [theme=dark] .colab-df-convert:hover {\n",
              "      background-color: #434B5C;\n",
              "      box-shadow: 0px 1px 3px 1px rgba(0, 0, 0, 0.15);\n",
              "      filter: drop-shadow(0px 1px 2px rgba(0, 0, 0, 0.3));\n",
              "      fill: #FFFFFF;\n",
              "    }\n",
              "  </style>\n",
              "\n",
              "      <script>\n",
              "        const buttonEl =\n",
              "          document.querySelector('#df-34033b1a-432d-43ca-a38d-07c74b367198 button.colab-df-convert');\n",
              "        buttonEl.style.display =\n",
              "          google.colab.kernel.accessAllowed ? 'block' : 'none';\n",
              "\n",
              "        async function convertToInteractive(key) {\n",
              "          const element = document.querySelector('#df-34033b1a-432d-43ca-a38d-07c74b367198');\n",
              "          const dataTable =\n",
              "            await google.colab.kernel.invokeFunction('convertToInteractive',\n",
              "                                                     [key], {});\n",
              "          if (!dataTable) return;\n",
              "\n",
              "          const docLinkHtml = 'Like what you see? Visit the ' +\n",
              "            '<a target=\"_blank\" href=https://colab.research.google.com/notebooks/data_table.ipynb>data table notebook</a>'\n",
              "            + ' to learn more about interactive tables.';\n",
              "          element.innerHTML = '';\n",
              "          dataTable['output_type'] = 'display_data';\n",
              "          await google.colab.output.renderOutput(dataTable, element);\n",
              "          const docLink = document.createElement('div');\n",
              "          docLink.innerHTML = docLinkHtml;\n",
              "          element.appendChild(docLink);\n",
              "        }\n",
              "      </script>\n",
              "    </div>\n",
              "  </div>\n",
              "  "
            ]
          },
          "metadata": {},
          "execution_count": 117
        }
      ]
    },
    {
      "cell_type": "code",
      "source": [
        "y_pred = x_ridge.predict(X_test)\n",
        "rmse = mean_squared_error(y_test, y_pred,squared=False)\n",
        "r2 = r2_score(y_test, y_pred)\n",
        "print('RMSE:', rmse)\n",
        "print(\"MAE: \", mean_absolute_error(y_test, y_pred))\n",
        "print('R2:', r2)"
      ],
      "metadata": {
        "colab": {
          "base_uri": "https://localhost:8080/"
        },
        "id": "inDxcmsUcZqT",
        "outputId": "addb4818-33fb-4cf6-f7ad-74155f6b14de"
      },
      "execution_count": null,
      "outputs": [
        {
          "output_type": "stream",
          "name": "stdout",
          "text": [
            "RMSE: 0.9338287175700666\n",
            "MAE:  0.7224004581207424\n",
            "R2: 0.90259558063543\n"
          ]
        }
      ]
    },
    {
      "cell_type": "markdown",
      "source": [
        "# Задание\n",
        "Провести исследование на собранном ранее наборе данных (он может быть дополнен или собран новый)\n",
        "\n",
        "- определить цель исследования\n",
        "- разделить набор данных на тренировочный и тестовый\n",
        "- использовать на выбор любой метод линейной регрессии\n",
        "- описать ход исследования дав пояснение и обоснование\n",
        "- сделать выводы и определить практическое значение полученных знаний"
      ],
      "metadata": {
        "id": "DPtoWgVNyN3g"
      }
    }
  ]
}